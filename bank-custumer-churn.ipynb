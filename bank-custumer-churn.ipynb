{
 "cells": [
  {
   "cell_type": "code",
   "execution_count": 1,
   "id": "5fb19a03",
   "metadata": {
    "execution": {
     "iopub.execute_input": "2023-02-03T20:10:33.743990Z",
     "iopub.status.busy": "2023-02-03T20:10:33.743493Z",
     "iopub.status.idle": "2023-02-03T20:10:46.601396Z",
     "shell.execute_reply": "2023-02-03T20:10:46.599586Z"
    },
    "papermill": {
     "duration": 12.868681,
     "end_time": "2023-02-03T20:10:46.604095",
     "exception": false,
     "start_time": "2023-02-03T20:10:33.735414",
     "status": "completed"
    },
    "tags": []
   },
   "outputs": [
    {
     "name": "stdout",
     "output_type": "stream",
     "text": [
      "Requirement already satisfied: plotly in /opt/conda/lib/python3.7/site-packages (5.10.0)\r\n",
      "Requirement already satisfied: jupyterlab in /opt/conda/lib/python3.7/site-packages (3.2.9)\r\n",
      "Requirement already satisfied: tenacity>=6.2.0 in /opt/conda/lib/python3.7/site-packages (from plotly) (8.0.1)\r\n",
      "Requirement already satisfied: jinja2>=2.1 in /opt/conda/lib/python3.7/site-packages (from jupyterlab) (3.1.2)\r\n",
      "Requirement already satisfied: jupyter-core in /opt/conda/lib/python3.7/site-packages (from jupyterlab) (4.10.0)\r\n",
      "Requirement already satisfied: nbclassic~=0.2 in /opt/conda/lib/python3.7/site-packages (from jupyterlab) (0.3.7)\r\n",
      "Requirement already satisfied: tornado>=6.1.0 in /opt/conda/lib/python3.7/site-packages (from jupyterlab) (6.1)\r\n",
      "Requirement already satisfied: ipython in /opt/conda/lib/python3.7/site-packages (from jupyterlab) (7.33.0)\r\n",
      "Requirement already satisfied: jupyter-server~=1.4 in /opt/conda/lib/python3.7/site-packages (from jupyterlab) (1.18.0)\r\n",
      "Requirement already satisfied: jupyterlab-server~=2.3 in /opt/conda/lib/python3.7/site-packages (from jupyterlab) (2.10.3)\r\n",
      "Requirement already satisfied: packaging in /opt/conda/lib/python3.7/site-packages (from jupyterlab) (21.3)\r\n",
      "Requirement already satisfied: MarkupSafe>=2.0 in /opt/conda/lib/python3.7/site-packages (from jinja2>=2.1->jupyterlab) (2.1.1)\r\n",
      "Requirement already satisfied: pyzmq>=17 in /opt/conda/lib/python3.7/site-packages (from jupyter-server~=1.4->jupyterlab) (23.2.0)\r\n",
      "Requirement already satisfied: traitlets>=5.1 in /opt/conda/lib/python3.7/site-packages (from jupyter-server~=1.4->jupyterlab) (5.3.0)\r\n",
      "Requirement already satisfied: prometheus-client in /opt/conda/lib/python3.7/site-packages (from jupyter-server~=1.4->jupyterlab) (0.14.1)\r\n",
      "Requirement already satisfied: Send2Trash in /opt/conda/lib/python3.7/site-packages (from jupyter-server~=1.4->jupyterlab) (1.8.0)\r\n",
      "Requirement already satisfied: jupyter-client>=6.1.12 in /opt/conda/lib/python3.7/site-packages (from jupyter-server~=1.4->jupyterlab) (7.3.4)\r\n",
      "Requirement already satisfied: nbformat>=5.2.0 in /opt/conda/lib/python3.7/site-packages (from jupyter-server~=1.4->jupyterlab) (5.4.0)\r\n",
      "Requirement already satisfied: websocket-client in /opt/conda/lib/python3.7/site-packages (from jupyter-server~=1.4->jupyterlab) (1.3.3)\r\n",
      "Requirement already satisfied: argon2-cffi in /opt/conda/lib/python3.7/site-packages (from jupyter-server~=1.4->jupyterlab) (21.3.0)\r\n",
      "Requirement already satisfied: anyio<4,>=3.1.0 in /opt/conda/lib/python3.7/site-packages (from jupyter-server~=1.4->jupyterlab) (3.6.1)\r\n",
      "Requirement already satisfied: nbconvert>=6.4.4 in /opt/conda/lib/python3.7/site-packages (from jupyter-server~=1.4->jupyterlab) (6.4.5)\r\n",
      "Requirement already satisfied: terminado>=0.8.3 in /opt/conda/lib/python3.7/site-packages (from jupyter-server~=1.4->jupyterlab) (0.15.0)\r\n",
      "Requirement already satisfied: json5 in /opt/conda/lib/python3.7/site-packages (from jupyterlab-server~=2.3->jupyterlab) (0.9.5)\r\n",
      "Requirement already satisfied: jsonschema>=3.0.1 in /opt/conda/lib/python3.7/site-packages (from jupyterlab-server~=2.3->jupyterlab) (4.6.1)\r\n",
      "Requirement already satisfied: babel in /opt/conda/lib/python3.7/site-packages (from jupyterlab-server~=2.3->jupyterlab) (2.10.3)\r\n",
      "Requirement already satisfied: requests in /opt/conda/lib/python3.7/site-packages (from jupyterlab-server~=2.3->jupyterlab) (2.28.1)\r\n",
      "Requirement already satisfied: entrypoints>=0.2.2 in /opt/conda/lib/python3.7/site-packages (from jupyterlab-server~=2.3->jupyterlab) (0.4)\r\n",
      "Requirement already satisfied: notebook<7 in /opt/conda/lib/python3.7/site-packages (from nbclassic~=0.2->jupyterlab) (6.4.12)\r\n",
      "Requirement already satisfied: notebook-shim>=0.1.0 in /opt/conda/lib/python3.7/site-packages (from nbclassic~=0.2->jupyterlab) (0.1.0)\r\n",
      "Requirement already satisfied: setuptools>=18.5 in /opt/conda/lib/python3.7/site-packages (from ipython->jupyterlab) (59.8.0)\r\n",
      "Requirement already satisfied: pexpect>4.3 in /opt/conda/lib/python3.7/site-packages (from ipython->jupyterlab) (4.8.0)\r\n",
      "Requirement already satisfied: decorator in /opt/conda/lib/python3.7/site-packages (from ipython->jupyterlab) (5.1.1)\r\n",
      "Requirement already satisfied: pickleshare in /opt/conda/lib/python3.7/site-packages (from ipython->jupyterlab) (0.7.5)\r\n",
      "Requirement already satisfied: backcall in /opt/conda/lib/python3.7/site-packages (from ipython->jupyterlab) (0.2.0)\r\n",
      "Requirement already satisfied: prompt-toolkit!=3.0.0,!=3.0.1,<3.1.0,>=2.0.0 in /opt/conda/lib/python3.7/site-packages (from ipython->jupyterlab) (3.0.30)\r\n",
      "Requirement already satisfied: pygments in /opt/conda/lib/python3.7/site-packages (from ipython->jupyterlab) (2.12.0)\r\n",
      "Requirement already satisfied: matplotlib-inline in /opt/conda/lib/python3.7/site-packages (from ipython->jupyterlab) (0.1.3)\r\n",
      "Requirement already satisfied: jedi>=0.16 in /opt/conda/lib/python3.7/site-packages (from ipython->jupyterlab) (0.18.1)\r\n",
      "Requirement already satisfied: pyparsing!=3.0.5,>=2.0.2 in /opt/conda/lib/python3.7/site-packages (from packaging->jupyterlab) (3.0.9)\r\n",
      "Requirement already satisfied: idna>=2.8 in /opt/conda/lib/python3.7/site-packages (from anyio<4,>=3.1.0->jupyter-server~=1.4->jupyterlab) (3.3)\r\n",
      "Requirement already satisfied: typing-extensions in /opt/conda/lib/python3.7/site-packages (from anyio<4,>=3.1.0->jupyter-server~=1.4->jupyterlab) (4.4.0)\r\n",
      "Requirement already satisfied: sniffio>=1.1 in /opt/conda/lib/python3.7/site-packages (from anyio<4,>=3.1.0->jupyter-server~=1.4->jupyterlab) (1.2.0)\r\n",
      "Requirement already satisfied: parso<0.9.0,>=0.8.0 in /opt/conda/lib/python3.7/site-packages (from jedi>=0.16->ipython->jupyterlab) (0.8.3)\r\n",
      "Requirement already satisfied: attrs>=17.4.0 in /opt/conda/lib/python3.7/site-packages (from jsonschema>=3.0.1->jupyterlab-server~=2.3->jupyterlab) (21.4.0)\r\n",
      "Requirement already satisfied: importlib-resources>=1.4.0 in /opt/conda/lib/python3.7/site-packages (from jsonschema>=3.0.1->jupyterlab-server~=2.3->jupyterlab) (5.8.0)\r\n",
      "Requirement already satisfied: pyrsistent!=0.17.0,!=0.17.1,!=0.17.2,>=0.14.0 in /opt/conda/lib/python3.7/site-packages (from jsonschema>=3.0.1->jupyterlab-server~=2.3->jupyterlab) (0.18.1)\r\n",
      "Requirement already satisfied: importlib-metadata in /opt/conda/lib/python3.7/site-packages (from jsonschema>=3.0.1->jupyterlab-server~=2.3->jupyterlab) (4.13.0)\r\n",
      "Requirement already satisfied: python-dateutil>=2.8.2 in /opt/conda/lib/python3.7/site-packages (from jupyter-client>=6.1.12->jupyter-server~=1.4->jupyterlab) (2.8.2)\r\n",
      "Requirement already satisfied: nest-asyncio>=1.5.4 in /opt/conda/lib/python3.7/site-packages (from jupyter-client>=6.1.12->jupyter-server~=1.4->jupyterlab) (1.5.5)\r\n",
      "Requirement already satisfied: nbclient<0.6.0,>=0.5.0 in /opt/conda/lib/python3.7/site-packages (from nbconvert>=6.4.4->jupyter-server~=1.4->jupyterlab) (0.5.13)\r\n",
      "Requirement already satisfied: mistune<2,>=0.8.1 in /opt/conda/lib/python3.7/site-packages (from nbconvert>=6.4.4->jupyter-server~=1.4->jupyterlab) (0.8.4)\r\n",
      "Requirement already satisfied: testpath in /opt/conda/lib/python3.7/site-packages (from nbconvert>=6.4.4->jupyter-server~=1.4->jupyterlab) (0.6.0)\r\n",
      "Requirement already satisfied: bleach in /opt/conda/lib/python3.7/site-packages (from nbconvert>=6.4.4->jupyter-server~=1.4->jupyterlab) (5.0.1)\r\n",
      "Requirement already satisfied: defusedxml in /opt/conda/lib/python3.7/site-packages (from nbconvert>=6.4.4->jupyter-server~=1.4->jupyterlab) (0.7.1)\r\n",
      "Requirement already satisfied: pandocfilters>=1.4.1 in /opt/conda/lib/python3.7/site-packages (from nbconvert>=6.4.4->jupyter-server~=1.4->jupyterlab) (1.5.0)\r\n",
      "Requirement already satisfied: beautifulsoup4 in /opt/conda/lib/python3.7/site-packages (from nbconvert>=6.4.4->jupyter-server~=1.4->jupyterlab) (4.11.1)\r\n",
      "Requirement already satisfied: jupyterlab-pygments in /opt/conda/lib/python3.7/site-packages (from nbconvert>=6.4.4->jupyter-server~=1.4->jupyterlab) (0.2.2)\r\n",
      "Requirement already satisfied: fastjsonschema in /opt/conda/lib/python3.7/site-packages (from nbformat>=5.2.0->jupyter-server~=1.4->jupyterlab) (2.15.3)\r\n",
      "Requirement already satisfied: ipykernel in /opt/conda/lib/python3.7/site-packages (from notebook<7->nbclassic~=0.2->jupyterlab) (6.15.0)\r\n",
      "Requirement already satisfied: ipython-genutils in /opt/conda/lib/python3.7/site-packages (from notebook<7->nbclassic~=0.2->jupyterlab) (0.2.0)\r\n",
      "Requirement already satisfied: ptyprocess>=0.5 in /opt/conda/lib/python3.7/site-packages (from pexpect>4.3->ipython->jupyterlab) (0.7.0)\r\n",
      "Requirement already satisfied: wcwidth in /opt/conda/lib/python3.7/site-packages (from prompt-toolkit!=3.0.0,!=3.0.1,<3.1.0,>=2.0.0->ipython->jupyterlab) (0.2.5)\r\n",
      "Requirement already satisfied: argon2-cffi-bindings in /opt/conda/lib/python3.7/site-packages (from argon2-cffi->jupyter-server~=1.4->jupyterlab) (21.2.0)\r\n",
      "Requirement already satisfied: pytz>=2015.7 in /opt/conda/lib/python3.7/site-packages (from babel->jupyterlab-server~=2.3->jupyterlab) (2022.1)\r\n",
      "Requirement already satisfied: charset-normalizer<3,>=2 in /opt/conda/lib/python3.7/site-packages (from requests->jupyterlab-server~=2.3->jupyterlab) (2.1.0)\r\n",
      "Requirement already satisfied: certifi>=2017.4.17 in /opt/conda/lib/python3.7/site-packages (from requests->jupyterlab-server~=2.3->jupyterlab) (2022.9.24)\r\n",
      "Requirement already satisfied: urllib3<1.27,>=1.21.1 in /opt/conda/lib/python3.7/site-packages (from requests->jupyterlab-server~=2.3->jupyterlab) (1.26.12)\r\n",
      "Requirement already satisfied: zipp>=3.1.0 in /opt/conda/lib/python3.7/site-packages (from importlib-resources>=1.4.0->jsonschema>=3.0.1->jupyterlab-server~=2.3->jupyterlab) (3.8.0)\r\n",
      "Requirement already satisfied: six>=1.5 in /opt/conda/lib/python3.7/site-packages (from python-dateutil>=2.8.2->jupyter-client>=6.1.12->jupyter-server~=1.4->jupyterlab) (1.15.0)\r\n",
      "Requirement already satisfied: cffi>=1.0.1 in /opt/conda/lib/python3.7/site-packages (from argon2-cffi-bindings->argon2-cffi->jupyter-server~=1.4->jupyterlab) (1.15.0)\r\n",
      "Requirement already satisfied: soupsieve>1.2 in /opt/conda/lib/python3.7/site-packages (from beautifulsoup4->nbconvert>=6.4.4->jupyter-server~=1.4->jupyterlab) (2.3.1)\r\n",
      "Requirement already satisfied: webencodings in /opt/conda/lib/python3.7/site-packages (from bleach->nbconvert>=6.4.4->jupyter-server~=1.4->jupyterlab) (0.5.1)\r\n",
      "Requirement already satisfied: debugpy>=1.0 in /opt/conda/lib/python3.7/site-packages (from ipykernel->notebook<7->nbclassic~=0.2->jupyterlab) (1.6.0)\r\n",
      "Requirement already satisfied: psutil in /opt/conda/lib/python3.7/site-packages (from ipykernel->notebook<7->nbclassic~=0.2->jupyterlab) (5.9.1)\r\n",
      "Requirement already satisfied: pycparser in /opt/conda/lib/python3.7/site-packages (from cffi>=1.0.1->argon2-cffi-bindings->argon2-cffi->jupyter-server~=1.4->jupyterlab) (2.21)\r\n",
      "\u001b[33mWARNING: Running pip as the 'root' user can result in broken permissions and conflicting behaviour with the system package manager. It is recommended to use a virtual environment instead: https://pip.pypa.io/warnings/venv\u001b[0m\u001b[33m\r\n",
      "\u001b[0mNote: you may need to restart the kernel to use updated packages.\n"
     ]
    }
   ],
   "source": [
    "pip install plotly jupyterlab"
   ]
  },
  {
   "cell_type": "code",
   "execution_count": 2,
   "id": "44bc99fd",
   "metadata": {
    "execution": {
     "iopub.execute_input": "2023-02-03T20:10:46.619493Z",
     "iopub.status.busy": "2023-02-03T20:10:46.619105Z",
     "iopub.status.idle": "2023-02-03T20:10:48.672194Z",
     "shell.execute_reply": "2023-02-03T20:10:48.670993Z"
    },
    "papermill": {
     "duration": 2.063636,
     "end_time": "2023-02-03T20:10:48.674727",
     "exception": false,
     "start_time": "2023-02-03T20:10:46.611091",
     "status": "completed"
    },
    "tags": []
   },
   "outputs": [],
   "source": [
    "import pandas as pd\n",
    "import numpy as np\n",
    "import seaborn as sns\n",
    "sns.set_theme(style=\"whitegrid\")\n",
    "import matplotlib.pyplot as plt\n",
    "import plotly.express as px\n",
    "pd.set_option('display.max_columns', 100)\n",
    "import warnings\n",
    "warnings.filterwarnings(\"ignore\")"
   ]
  },
  {
   "cell_type": "code",
   "execution_count": 3,
   "id": "a61688e9",
   "metadata": {
    "execution": {
     "iopub.execute_input": "2023-02-03T20:10:48.690213Z",
     "iopub.status.busy": "2023-02-03T20:10:48.689439Z",
     "iopub.status.idle": "2023-02-03T20:10:48.745963Z",
     "shell.execute_reply": "2023-02-03T20:10:48.744844Z"
    },
    "papermill": {
     "duration": 0.067155,
     "end_time": "2023-02-03T20:10:48.748747",
     "exception": false,
     "start_time": "2023-02-03T20:10:48.681592",
     "status": "completed"
    },
    "tags": []
   },
   "outputs": [],
   "source": [
    "df = pd.read_csv(\"/kaggle/input/bank-customers/Churn Modeling.csv\")"
   ]
  },
  {
   "cell_type": "markdown",
   "id": "6cdc1895",
   "metadata": {
    "papermill": {
     "duration": 0.006176,
     "end_time": "2023-02-03T20:10:48.761543",
     "exception": false,
     "start_time": "2023-02-03T20:10:48.755367",
     "status": "completed"
    },
    "tags": []
   },
   "source": [
    "# EDA"
   ]
  },
  {
   "cell_type": "code",
   "execution_count": 4,
   "id": "ec0f036b",
   "metadata": {
    "execution": {
     "iopub.execute_input": "2023-02-03T20:10:48.776393Z",
     "iopub.status.busy": "2023-02-03T20:10:48.775564Z",
     "iopub.status.idle": "2023-02-03T20:10:48.801100Z",
     "shell.execute_reply": "2023-02-03T20:10:48.799850Z"
    },
    "papermill": {
     "duration": 0.036147,
     "end_time": "2023-02-03T20:10:48.804065",
     "exception": false,
     "start_time": "2023-02-03T20:10:48.767918",
     "status": "completed"
    },
    "tags": []
   },
   "outputs": [
    {
     "data": {
      "text/html": [
       "<div>\n",
       "<style scoped>\n",
       "    .dataframe tbody tr th:only-of-type {\n",
       "        vertical-align: middle;\n",
       "    }\n",
       "\n",
       "    .dataframe tbody tr th {\n",
       "        vertical-align: top;\n",
       "    }\n",
       "\n",
       "    .dataframe thead th {\n",
       "        text-align: right;\n",
       "    }\n",
       "</style>\n",
       "<table border=\"1\" class=\"dataframe\">\n",
       "  <thead>\n",
       "    <tr style=\"text-align: right;\">\n",
       "      <th></th>\n",
       "      <th>RowNumber</th>\n",
       "      <th>CustomerId</th>\n",
       "      <th>Surname</th>\n",
       "      <th>CreditScore</th>\n",
       "      <th>Geography</th>\n",
       "      <th>Gender</th>\n",
       "      <th>Age</th>\n",
       "      <th>Tenure</th>\n",
       "      <th>Balance</th>\n",
       "      <th>NumOfProducts</th>\n",
       "      <th>HasCrCard</th>\n",
       "      <th>IsActiveMember</th>\n",
       "      <th>EstimatedSalary</th>\n",
       "      <th>Exited</th>\n",
       "    </tr>\n",
       "  </thead>\n",
       "  <tbody>\n",
       "    <tr>\n",
       "      <th>0</th>\n",
       "      <td>1</td>\n",
       "      <td>15634602</td>\n",
       "      <td>Hargrave</td>\n",
       "      <td>619</td>\n",
       "      <td>France</td>\n",
       "      <td>Female</td>\n",
       "      <td>42</td>\n",
       "      <td>2</td>\n",
       "      <td>0.00</td>\n",
       "      <td>1</td>\n",
       "      <td>1</td>\n",
       "      <td>1</td>\n",
       "      <td>101348.88</td>\n",
       "      <td>1</td>\n",
       "    </tr>\n",
       "    <tr>\n",
       "      <th>1</th>\n",
       "      <td>2</td>\n",
       "      <td>15647311</td>\n",
       "      <td>Hill</td>\n",
       "      <td>608</td>\n",
       "      <td>Spain</td>\n",
       "      <td>Female</td>\n",
       "      <td>41</td>\n",
       "      <td>1</td>\n",
       "      <td>83807.86</td>\n",
       "      <td>1</td>\n",
       "      <td>0</td>\n",
       "      <td>1</td>\n",
       "      <td>112542.58</td>\n",
       "      <td>0</td>\n",
       "    </tr>\n",
       "    <tr>\n",
       "      <th>2</th>\n",
       "      <td>3</td>\n",
       "      <td>15619304</td>\n",
       "      <td>Onio</td>\n",
       "      <td>502</td>\n",
       "      <td>France</td>\n",
       "      <td>Female</td>\n",
       "      <td>42</td>\n",
       "      <td>8</td>\n",
       "      <td>159660.80</td>\n",
       "      <td>3</td>\n",
       "      <td>1</td>\n",
       "      <td>0</td>\n",
       "      <td>113931.57</td>\n",
       "      <td>1</td>\n",
       "    </tr>\n",
       "    <tr>\n",
       "      <th>3</th>\n",
       "      <td>4</td>\n",
       "      <td>15701354</td>\n",
       "      <td>Boni</td>\n",
       "      <td>699</td>\n",
       "      <td>France</td>\n",
       "      <td>Female</td>\n",
       "      <td>39</td>\n",
       "      <td>1</td>\n",
       "      <td>0.00</td>\n",
       "      <td>2</td>\n",
       "      <td>0</td>\n",
       "      <td>0</td>\n",
       "      <td>93826.63</td>\n",
       "      <td>0</td>\n",
       "    </tr>\n",
       "    <tr>\n",
       "      <th>4</th>\n",
       "      <td>5</td>\n",
       "      <td>15737888</td>\n",
       "      <td>Mitchell</td>\n",
       "      <td>850</td>\n",
       "      <td>Spain</td>\n",
       "      <td>Female</td>\n",
       "      <td>43</td>\n",
       "      <td>2</td>\n",
       "      <td>125510.82</td>\n",
       "      <td>1</td>\n",
       "      <td>1</td>\n",
       "      <td>1</td>\n",
       "      <td>79084.10</td>\n",
       "      <td>0</td>\n",
       "    </tr>\n",
       "  </tbody>\n",
       "</table>\n",
       "</div>"
      ],
      "text/plain": [
       "   RowNumber  CustomerId   Surname  CreditScore Geography  Gender  Age  \\\n",
       "0          1    15634602  Hargrave          619    France  Female   42   \n",
       "1          2    15647311      Hill          608     Spain  Female   41   \n",
       "2          3    15619304      Onio          502    France  Female   42   \n",
       "3          4    15701354      Boni          699    France  Female   39   \n",
       "4          5    15737888  Mitchell          850     Spain  Female   43   \n",
       "\n",
       "   Tenure    Balance  NumOfProducts  HasCrCard  IsActiveMember  \\\n",
       "0       2       0.00              1          1               1   \n",
       "1       1   83807.86              1          0               1   \n",
       "2       8  159660.80              3          1               0   \n",
       "3       1       0.00              2          0               0   \n",
       "4       2  125510.82              1          1               1   \n",
       "\n",
       "   EstimatedSalary  Exited  \n",
       "0        101348.88       1  \n",
       "1        112542.58       0  \n",
       "2        113931.57       1  \n",
       "3         93826.63       0  \n",
       "4         79084.10       0  "
      ]
     },
     "execution_count": 4,
     "metadata": {},
     "output_type": "execute_result"
    }
   ],
   "source": [
    "df.head()"
   ]
  },
  {
   "cell_type": "code",
   "execution_count": 5,
   "id": "6f5013ee",
   "metadata": {
    "execution": {
     "iopub.execute_input": "2023-02-03T20:10:48.820545Z",
     "iopub.status.busy": "2023-02-03T20:10:48.819702Z",
     "iopub.status.idle": "2023-02-03T20:10:48.826720Z",
     "shell.execute_reply": "2023-02-03T20:10:48.825608Z"
    },
    "papermill": {
     "duration": 0.017898,
     "end_time": "2023-02-03T20:10:48.829102",
     "exception": false,
     "start_time": "2023-02-03T20:10:48.811204",
     "status": "completed"
    },
    "tags": []
   },
   "outputs": [
    {
     "data": {
      "text/plain": [
       "(10000, 14)"
      ]
     },
     "execution_count": 5,
     "metadata": {},
     "output_type": "execute_result"
    }
   ],
   "source": [
    "df.shape"
   ]
  },
  {
   "cell_type": "code",
   "execution_count": 6,
   "id": "842a7b0c",
   "metadata": {
    "execution": {
     "iopub.execute_input": "2023-02-03T20:10:48.844765Z",
     "iopub.status.busy": "2023-02-03T20:10:48.844364Z",
     "iopub.status.idle": "2023-02-03T20:10:48.901974Z",
     "shell.execute_reply": "2023-02-03T20:10:48.900859Z"
    },
    "papermill": {
     "duration": 0.068725,
     "end_time": "2023-02-03T20:10:48.904727",
     "exception": false,
     "start_time": "2023-02-03T20:10:48.836002",
     "status": "completed"
    },
    "tags": []
   },
   "outputs": [
    {
     "data": {
      "text/html": [
       "<div>\n",
       "<style scoped>\n",
       "    .dataframe tbody tr th:only-of-type {\n",
       "        vertical-align: middle;\n",
       "    }\n",
       "\n",
       "    .dataframe tbody tr th {\n",
       "        vertical-align: top;\n",
       "    }\n",
       "\n",
       "    .dataframe thead th {\n",
       "        text-align: right;\n",
       "    }\n",
       "</style>\n",
       "<table border=\"1\" class=\"dataframe\">\n",
       "  <thead>\n",
       "    <tr style=\"text-align: right;\">\n",
       "      <th></th>\n",
       "      <th>count</th>\n",
       "      <th>mean</th>\n",
       "      <th>std</th>\n",
       "      <th>min</th>\n",
       "      <th>25%</th>\n",
       "      <th>50%</th>\n",
       "      <th>75%</th>\n",
       "      <th>max</th>\n",
       "    </tr>\n",
       "  </thead>\n",
       "  <tbody>\n",
       "    <tr>\n",
       "      <th>RowNumber</th>\n",
       "      <td>10000.0</td>\n",
       "      <td>5.000500e+03</td>\n",
       "      <td>2886.895680</td>\n",
       "      <td>1.00</td>\n",
       "      <td>2500.75</td>\n",
       "      <td>5.000500e+03</td>\n",
       "      <td>7.500250e+03</td>\n",
       "      <td>10000.00</td>\n",
       "    </tr>\n",
       "    <tr>\n",
       "      <th>CustomerId</th>\n",
       "      <td>10000.0</td>\n",
       "      <td>1.569094e+07</td>\n",
       "      <td>71936.186123</td>\n",
       "      <td>15565701.00</td>\n",
       "      <td>15628528.25</td>\n",
       "      <td>1.569074e+07</td>\n",
       "      <td>1.575323e+07</td>\n",
       "      <td>15815690.00</td>\n",
       "    </tr>\n",
       "    <tr>\n",
       "      <th>CreditScore</th>\n",
       "      <td>10000.0</td>\n",
       "      <td>6.505288e+02</td>\n",
       "      <td>96.653299</td>\n",
       "      <td>350.00</td>\n",
       "      <td>584.00</td>\n",
       "      <td>6.520000e+02</td>\n",
       "      <td>7.180000e+02</td>\n",
       "      <td>850.00</td>\n",
       "    </tr>\n",
       "    <tr>\n",
       "      <th>Age</th>\n",
       "      <td>10000.0</td>\n",
       "      <td>3.892180e+01</td>\n",
       "      <td>10.487806</td>\n",
       "      <td>18.00</td>\n",
       "      <td>32.00</td>\n",
       "      <td>3.700000e+01</td>\n",
       "      <td>4.400000e+01</td>\n",
       "      <td>92.00</td>\n",
       "    </tr>\n",
       "    <tr>\n",
       "      <th>Tenure</th>\n",
       "      <td>10000.0</td>\n",
       "      <td>5.012800e+00</td>\n",
       "      <td>2.892174</td>\n",
       "      <td>0.00</td>\n",
       "      <td>3.00</td>\n",
       "      <td>5.000000e+00</td>\n",
       "      <td>7.000000e+00</td>\n",
       "      <td>10.00</td>\n",
       "    </tr>\n",
       "    <tr>\n",
       "      <th>Balance</th>\n",
       "      <td>10000.0</td>\n",
       "      <td>7.648589e+04</td>\n",
       "      <td>62397.405202</td>\n",
       "      <td>0.00</td>\n",
       "      <td>0.00</td>\n",
       "      <td>9.719854e+04</td>\n",
       "      <td>1.276442e+05</td>\n",
       "      <td>250898.09</td>\n",
       "    </tr>\n",
       "    <tr>\n",
       "      <th>NumOfProducts</th>\n",
       "      <td>10000.0</td>\n",
       "      <td>1.530200e+00</td>\n",
       "      <td>0.581654</td>\n",
       "      <td>1.00</td>\n",
       "      <td>1.00</td>\n",
       "      <td>1.000000e+00</td>\n",
       "      <td>2.000000e+00</td>\n",
       "      <td>4.00</td>\n",
       "    </tr>\n",
       "    <tr>\n",
       "      <th>HasCrCard</th>\n",
       "      <td>10000.0</td>\n",
       "      <td>7.055000e-01</td>\n",
       "      <td>0.455840</td>\n",
       "      <td>0.00</td>\n",
       "      <td>0.00</td>\n",
       "      <td>1.000000e+00</td>\n",
       "      <td>1.000000e+00</td>\n",
       "      <td>1.00</td>\n",
       "    </tr>\n",
       "    <tr>\n",
       "      <th>IsActiveMember</th>\n",
       "      <td>10000.0</td>\n",
       "      <td>5.151000e-01</td>\n",
       "      <td>0.499797</td>\n",
       "      <td>0.00</td>\n",
       "      <td>0.00</td>\n",
       "      <td>1.000000e+00</td>\n",
       "      <td>1.000000e+00</td>\n",
       "      <td>1.00</td>\n",
       "    </tr>\n",
       "    <tr>\n",
       "      <th>EstimatedSalary</th>\n",
       "      <td>10000.0</td>\n",
       "      <td>1.000902e+05</td>\n",
       "      <td>57510.492818</td>\n",
       "      <td>11.58</td>\n",
       "      <td>51002.11</td>\n",
       "      <td>1.001939e+05</td>\n",
       "      <td>1.493882e+05</td>\n",
       "      <td>199992.48</td>\n",
       "    </tr>\n",
       "    <tr>\n",
       "      <th>Exited</th>\n",
       "      <td>10000.0</td>\n",
       "      <td>2.037000e-01</td>\n",
       "      <td>0.402769</td>\n",
       "      <td>0.00</td>\n",
       "      <td>0.00</td>\n",
       "      <td>0.000000e+00</td>\n",
       "      <td>0.000000e+00</td>\n",
       "      <td>1.00</td>\n",
       "    </tr>\n",
       "  </tbody>\n",
       "</table>\n",
       "</div>"
      ],
      "text/plain": [
       "                   count          mean           std          min  \\\n",
       "RowNumber        10000.0  5.000500e+03   2886.895680         1.00   \n",
       "CustomerId       10000.0  1.569094e+07  71936.186123  15565701.00   \n",
       "CreditScore      10000.0  6.505288e+02     96.653299       350.00   \n",
       "Age              10000.0  3.892180e+01     10.487806        18.00   \n",
       "Tenure           10000.0  5.012800e+00      2.892174         0.00   \n",
       "Balance          10000.0  7.648589e+04  62397.405202         0.00   \n",
       "NumOfProducts    10000.0  1.530200e+00      0.581654         1.00   \n",
       "HasCrCard        10000.0  7.055000e-01      0.455840         0.00   \n",
       "IsActiveMember   10000.0  5.151000e-01      0.499797         0.00   \n",
       "EstimatedSalary  10000.0  1.000902e+05  57510.492818        11.58   \n",
       "Exited           10000.0  2.037000e-01      0.402769         0.00   \n",
       "\n",
       "                         25%           50%           75%          max  \n",
       "RowNumber            2500.75  5.000500e+03  7.500250e+03     10000.00  \n",
       "CustomerId       15628528.25  1.569074e+07  1.575323e+07  15815690.00  \n",
       "CreditScore           584.00  6.520000e+02  7.180000e+02       850.00  \n",
       "Age                    32.00  3.700000e+01  4.400000e+01        92.00  \n",
       "Tenure                  3.00  5.000000e+00  7.000000e+00        10.00  \n",
       "Balance                 0.00  9.719854e+04  1.276442e+05    250898.09  \n",
       "NumOfProducts           1.00  1.000000e+00  2.000000e+00         4.00  \n",
       "HasCrCard               0.00  1.000000e+00  1.000000e+00         1.00  \n",
       "IsActiveMember          0.00  1.000000e+00  1.000000e+00         1.00  \n",
       "EstimatedSalary     51002.11  1.001939e+05  1.493882e+05    199992.48  \n",
       "Exited                  0.00  0.000000e+00  0.000000e+00         1.00  "
      ]
     },
     "execution_count": 6,
     "metadata": {},
     "output_type": "execute_result"
    }
   ],
   "source": [
    "df.describe().T"
   ]
  },
  {
   "cell_type": "markdown",
   "id": "f4f9d544",
   "metadata": {
    "papermill": {
     "duration": 0.006719,
     "end_time": "2023-02-03T20:10:48.920190",
     "exception": false,
     "start_time": "2023-02-03T20:10:48.913471",
     "status": "completed"
    },
    "tags": []
   },
   "source": [
    "According to Above Table:\n",
    "* Mean of Age looks very weird. Hence, It should be checked.\n",
    "* Distribution of Credit score is very various. It should be checked."
   ]
  },
  {
   "cell_type": "code",
   "execution_count": 7,
   "id": "e382bd48",
   "metadata": {
    "execution": {
     "iopub.execute_input": "2023-02-03T20:10:48.935995Z",
     "iopub.status.busy": "2023-02-03T20:10:48.935573Z",
     "iopub.status.idle": "2023-02-03T20:10:48.956217Z",
     "shell.execute_reply": "2023-02-03T20:10:48.954575Z"
    },
    "papermill": {
     "duration": 0.032312,
     "end_time": "2023-02-03T20:10:48.959515",
     "exception": false,
     "start_time": "2023-02-03T20:10:48.927203",
     "status": "completed"
    },
    "tags": []
   },
   "outputs": [
    {
     "name": "stdout",
     "output_type": "stream",
     "text": [
      "<class 'pandas.core.frame.DataFrame'>\n",
      "RangeIndex: 10000 entries, 0 to 9999\n",
      "Data columns (total 14 columns):\n",
      " #   Column           Non-Null Count  Dtype  \n",
      "---  ------           --------------  -----  \n",
      " 0   RowNumber        10000 non-null  int64  \n",
      " 1   CustomerId       10000 non-null  int64  \n",
      " 2   Surname          10000 non-null  object \n",
      " 3   CreditScore      10000 non-null  int64  \n",
      " 4   Geography        10000 non-null  object \n",
      " 5   Gender           10000 non-null  object \n",
      " 6   Age              10000 non-null  int64  \n",
      " 7   Tenure           10000 non-null  int64  \n",
      " 8   Balance          10000 non-null  float64\n",
      " 9   NumOfProducts    10000 non-null  int64  \n",
      " 10  HasCrCard        10000 non-null  int64  \n",
      " 11  IsActiveMember   10000 non-null  int64  \n",
      " 12  EstimatedSalary  10000 non-null  float64\n",
      " 13  Exited           10000 non-null  int64  \n",
      "dtypes: float64(2), int64(9), object(3)\n",
      "memory usage: 1.1+ MB\n"
     ]
    }
   ],
   "source": [
    "df.info()"
   ]
  },
  {
   "cell_type": "markdown",
   "id": "14251319",
   "metadata": {
    "papermill": {
     "duration": 0.006931,
     "end_time": "2023-02-03T20:10:48.974288",
     "exception": false,
     "start_time": "2023-02-03T20:10:48.967357",
     "status": "completed"
    },
    "tags": []
   },
   "source": [
    "***Depending on the info table, Some columns can be discarded. They are repectively CustomerId and Surname.***\n"
   ]
  },
  {
   "cell_type": "code",
   "execution_count": 8,
   "id": "f0ee1aed",
   "metadata": {
    "execution": {
     "iopub.execute_input": "2023-02-03T20:10:48.991661Z",
     "iopub.status.busy": "2023-02-03T20:10:48.990619Z",
     "iopub.status.idle": "2023-02-03T20:10:48.997957Z",
     "shell.execute_reply": "2023-02-03T20:10:48.996560Z"
    },
    "papermill": {
     "duration": 0.018108,
     "end_time": "2023-02-03T20:10:49.000104",
     "exception": false,
     "start_time": "2023-02-03T20:10:48.981996",
     "status": "completed"
    },
    "tags": []
   },
   "outputs": [],
   "source": [
    "df=df.drop(['CustomerId', 'Surname'], axis=1)"
   ]
  },
  {
   "cell_type": "code",
   "execution_count": 9,
   "id": "69fda5ac",
   "metadata": {
    "execution": {
     "iopub.execute_input": "2023-02-03T20:10:49.016290Z",
     "iopub.status.busy": "2023-02-03T20:10:49.015879Z",
     "iopub.status.idle": "2023-02-03T20:10:49.031806Z",
     "shell.execute_reply": "2023-02-03T20:10:49.030594Z"
    },
    "papermill": {
     "duration": 0.026721,
     "end_time": "2023-02-03T20:10:49.034175",
     "exception": false,
     "start_time": "2023-02-03T20:10:49.007454",
     "status": "completed"
    },
    "tags": []
   },
   "outputs": [
    {
     "data": {
      "text/html": [
       "<div>\n",
       "<style scoped>\n",
       "    .dataframe tbody tr th:only-of-type {\n",
       "        vertical-align: middle;\n",
       "    }\n",
       "\n",
       "    .dataframe tbody tr th {\n",
       "        vertical-align: top;\n",
       "    }\n",
       "\n",
       "    .dataframe thead th {\n",
       "        text-align: right;\n",
       "    }\n",
       "</style>\n",
       "<table border=\"1\" class=\"dataframe\">\n",
       "  <thead>\n",
       "    <tr style=\"text-align: right;\">\n",
       "      <th></th>\n",
       "      <th>RowNumber</th>\n",
       "      <th>CreditScore</th>\n",
       "      <th>Geography</th>\n",
       "      <th>Gender</th>\n",
       "      <th>Age</th>\n",
       "      <th>Tenure</th>\n",
       "      <th>Balance</th>\n",
       "      <th>NumOfProducts</th>\n",
       "      <th>HasCrCard</th>\n",
       "      <th>IsActiveMember</th>\n",
       "      <th>EstimatedSalary</th>\n",
       "      <th>Exited</th>\n",
       "    </tr>\n",
       "  </thead>\n",
       "  <tbody>\n",
       "    <tr>\n",
       "      <th>9995</th>\n",
       "      <td>9996</td>\n",
       "      <td>771</td>\n",
       "      <td>France</td>\n",
       "      <td>Male</td>\n",
       "      <td>39</td>\n",
       "      <td>5</td>\n",
       "      <td>0.00</td>\n",
       "      <td>2</td>\n",
       "      <td>1</td>\n",
       "      <td>0</td>\n",
       "      <td>96270.64</td>\n",
       "      <td>0</td>\n",
       "    </tr>\n",
       "    <tr>\n",
       "      <th>9996</th>\n",
       "      <td>9997</td>\n",
       "      <td>516</td>\n",
       "      <td>France</td>\n",
       "      <td>Male</td>\n",
       "      <td>35</td>\n",
       "      <td>10</td>\n",
       "      <td>57369.61</td>\n",
       "      <td>1</td>\n",
       "      <td>1</td>\n",
       "      <td>1</td>\n",
       "      <td>101699.77</td>\n",
       "      <td>0</td>\n",
       "    </tr>\n",
       "    <tr>\n",
       "      <th>9997</th>\n",
       "      <td>9998</td>\n",
       "      <td>709</td>\n",
       "      <td>France</td>\n",
       "      <td>Female</td>\n",
       "      <td>36</td>\n",
       "      <td>7</td>\n",
       "      <td>0.00</td>\n",
       "      <td>1</td>\n",
       "      <td>0</td>\n",
       "      <td>1</td>\n",
       "      <td>42085.58</td>\n",
       "      <td>1</td>\n",
       "    </tr>\n",
       "    <tr>\n",
       "      <th>9998</th>\n",
       "      <td>9999</td>\n",
       "      <td>772</td>\n",
       "      <td>Germany</td>\n",
       "      <td>Male</td>\n",
       "      <td>42</td>\n",
       "      <td>3</td>\n",
       "      <td>75075.31</td>\n",
       "      <td>2</td>\n",
       "      <td>1</td>\n",
       "      <td>0</td>\n",
       "      <td>92888.52</td>\n",
       "      <td>1</td>\n",
       "    </tr>\n",
       "    <tr>\n",
       "      <th>9999</th>\n",
       "      <td>10000</td>\n",
       "      <td>792</td>\n",
       "      <td>France</td>\n",
       "      <td>Female</td>\n",
       "      <td>28</td>\n",
       "      <td>4</td>\n",
       "      <td>130142.79</td>\n",
       "      <td>1</td>\n",
       "      <td>1</td>\n",
       "      <td>0</td>\n",
       "      <td>38190.78</td>\n",
       "      <td>0</td>\n",
       "    </tr>\n",
       "  </tbody>\n",
       "</table>\n",
       "</div>"
      ],
      "text/plain": [
       "      RowNumber  CreditScore Geography  Gender  Age  Tenure    Balance  \\\n",
       "9995       9996          771    France    Male   39       5       0.00   \n",
       "9996       9997          516    France    Male   35      10   57369.61   \n",
       "9997       9998          709    France  Female   36       7       0.00   \n",
       "9998       9999          772   Germany    Male   42       3   75075.31   \n",
       "9999      10000          792    France  Female   28       4  130142.79   \n",
       "\n",
       "      NumOfProducts  HasCrCard  IsActiveMember  EstimatedSalary  Exited  \n",
       "9995              2          1               0         96270.64       0  \n",
       "9996              1          1               1        101699.77       0  \n",
       "9997              1          0               1         42085.58       1  \n",
       "9998              2          1               0         92888.52       1  \n",
       "9999              1          1               0         38190.78       0  "
      ]
     },
     "execution_count": 9,
     "metadata": {},
     "output_type": "execute_result"
    }
   ],
   "source": [
    "df.tail()"
   ]
  },
  {
   "cell_type": "code",
   "execution_count": 10,
   "id": "1d812166",
   "metadata": {
    "execution": {
     "iopub.execute_input": "2023-02-03T20:10:49.050873Z",
     "iopub.status.busy": "2023-02-03T20:10:49.050447Z",
     "iopub.status.idle": "2023-02-03T20:10:49.061870Z",
     "shell.execute_reply": "2023-02-03T20:10:49.060815Z"
    },
    "papermill": {
     "duration": 0.022465,
     "end_time": "2023-02-03T20:10:49.064144",
     "exception": false,
     "start_time": "2023-02-03T20:10:49.041679",
     "status": "completed"
    },
    "tags": []
   },
   "outputs": [
    {
     "data": {
      "text/plain": [
       "RowNumber          0\n",
       "CreditScore        0\n",
       "Geography          0\n",
       "Gender             0\n",
       "Age                0\n",
       "Tenure             0\n",
       "Balance            0\n",
       "NumOfProducts      0\n",
       "HasCrCard          0\n",
       "IsActiveMember     0\n",
       "EstimatedSalary    0\n",
       "Exited             0\n",
       "dtype: int64"
      ]
     },
     "execution_count": 10,
     "metadata": {},
     "output_type": "execute_result"
    }
   ],
   "source": [
    "df.isnull().sum()"
   ]
  },
  {
   "cell_type": "markdown",
   "id": "a18c028d",
   "metadata": {
    "papermill": {
     "duration": 0.007651,
     "end_time": "2023-02-03T20:10:49.079474",
     "exception": false,
     "start_time": "2023-02-03T20:10:49.071823",
     "status": "completed"
    },
    "tags": []
   },
   "source": [
    "***There are not any null cells. That sounds great.***"
   ]
  },
  {
   "cell_type": "markdown",
   "id": "1c73336b",
   "metadata": {
    "papermill": {
     "duration": 0.007836,
     "end_time": "2023-02-03T20:10:49.095137",
     "exception": false,
     "start_time": "2023-02-03T20:10:49.087301",
     "status": "completed"
    },
    "tags": []
   },
   "source": [
    "## Credit Score "
   ]
  },
  {
   "cell_type": "code",
   "execution_count": 11,
   "id": "e2d17145",
   "metadata": {
    "execution": {
     "iopub.execute_input": "2023-02-03T20:10:49.112927Z",
     "iopub.status.busy": "2023-02-03T20:10:49.111711Z",
     "iopub.status.idle": "2023-02-03T20:10:49.122054Z",
     "shell.execute_reply": "2023-02-03T20:10:49.120637Z"
    },
    "papermill": {
     "duration": 0.021641,
     "end_time": "2023-02-03T20:10:49.124388",
     "exception": false,
     "start_time": "2023-02-03T20:10:49.102747",
     "status": "completed"
    },
    "tags": []
   },
   "outputs": [
    {
     "data": {
      "text/plain": [
       "0       619\n",
       "1       608\n",
       "2       502\n",
       "3       699\n",
       "4       850\n",
       "       ... \n",
       "9995    771\n",
       "9996    516\n",
       "9997    709\n",
       "9998    772\n",
       "9999    792\n",
       "Name: CreditScore, Length: 10000, dtype: int64"
      ]
     },
     "execution_count": 11,
     "metadata": {},
     "output_type": "execute_result"
    }
   ],
   "source": [
    "Credit_Score = df[\"CreditScore\"]\n",
    "Credit_Score"
   ]
  },
  {
   "cell_type": "code",
   "execution_count": 12,
   "id": "2c34c6c1",
   "metadata": {
    "execution": {
     "iopub.execute_input": "2023-02-03T20:10:49.142140Z",
     "iopub.status.busy": "2023-02-03T20:10:49.141418Z",
     "iopub.status.idle": "2023-02-03T20:10:49.153046Z",
     "shell.execute_reply": "2023-02-03T20:10:49.151861Z"
    },
    "papermill": {
     "duration": 0.023018,
     "end_time": "2023-02-03T20:10:49.155488",
     "exception": false,
     "start_time": "2023-02-03T20:10:49.132470",
     "status": "completed"
    },
    "tags": []
   },
   "outputs": [
    {
     "data": {
      "text/plain": [
       "count    10000.000000\n",
       "mean       650.528800\n",
       "std         96.653299\n",
       "min        350.000000\n",
       "25%        584.000000\n",
       "50%        652.000000\n",
       "75%        718.000000\n",
       "max        850.000000\n",
       "Name: CreditScore, dtype: float64"
      ]
     },
     "execution_count": 12,
     "metadata": {},
     "output_type": "execute_result"
    }
   ],
   "source": [
    "Credit_Score.describe().T"
   ]
  },
  {
   "cell_type": "markdown",
   "id": "befaa121",
   "metadata": {
    "papermill": {
     "duration": 0.007502,
     "end_time": "2023-02-03T20:10:49.171224",
     "exception": false,
     "start_time": "2023-02-03T20:10:49.163722",
     "status": "completed"
    },
    "tags": []
   },
   "source": [
    "According staticts results of Credit Score:\n",
    "1. Range is not very big. Hence, Maybe it can be said that it has no outlier value.\n",
    "1. Standart Deviation and Mean are very far each other. Therefore, it can be said that The data is quite diverse.    "
   ]
  },
  {
   "cell_type": "code",
   "execution_count": 13,
   "id": "f69b47f1",
   "metadata": {
    "execution": {
     "iopub.execute_input": "2023-02-03T20:10:49.188263Z",
     "iopub.status.busy": "2023-02-03T20:10:49.187863Z",
     "iopub.status.idle": "2023-02-03T20:10:50.211551Z",
     "shell.execute_reply": "2023-02-03T20:10:50.210437Z"
    },
    "papermill": {
     "duration": 1.035113,
     "end_time": "2023-02-03T20:10:50.213971",
     "exception": false,
     "start_time": "2023-02-03T20:10:49.178858",
     "status": "completed"
    },
    "tags": []
   },
   "outputs": [
    {
     "data": {
      "text/html": [
       "        <script type=\"text/javascript\">\n",
       "        window.PlotlyConfig = {MathJaxConfig: 'local'};\n",
       "        if (window.MathJax && window.MathJax.Hub && window.MathJax.Hub.Config) {window.MathJax.Hub.Config({SVG: {font: \"STIX-Web\"}});}\n",
       "        if (typeof require !== 'undefined') {\n",
       "        require.undef(\"plotly\");\n",
       "        requirejs.config({\n",
       "            paths: {\n",
       "                'plotly': ['https://cdn.plot.ly/plotly-2.14.0.min']\n",
       "            }\n",
       "        });\n",
       "        require(['plotly'], function(Plotly) {\n",
       "            window._Plotly = Plotly;\n",
       "        });\n",
       "        }\n",
       "        </script>\n",
       "        "
      ]
     },
     "metadata": {},
     "output_type": "display_data"
    },
    {
     "data": {
      "text/html": [
       "<div>                            <div id=\"0c36beb9-e90d-4f27-a1bb-c7df677e4a7d\" class=\"plotly-graph-div\" style=\"height:525px; width:100%;\"></div>            <script type=\"text/javascript\">                require([\"plotly\"], function(Plotly) {                    window.PLOTLYENV=window.PLOTLYENV || {};                                    if (document.getElementById(\"0c36beb9-e90d-4f27-a1bb-c7df677e4a7d\")) {                    Plotly.newPlot(                        \"0c36beb9-e90d-4f27-a1bb-c7df677e4a7d\",                        [{\"alignmentgroup\":\"True\",\"bingroup\":\"x\",\"hovertemplate\":\"CreditScore=%{x}<br>count=%{y}<extra></extra>\",\"legendgroup\":\"\",\"marker\":{\"color\":\"indianred\",\"pattern\":{\"shape\":\"\"}},\"name\":\"\",\"offsetgroup\":\"\",\"orientation\":\"v\",\"showlegend\":false,\"x\":[619,608,502,699,850,645,822,376,501,684,528,497,476,549,635,616,653,549,587,726,732,636,510,669,846,577,756,571,574,411,591,533,553,520,722,475,490,804,850,582,472,465,556,834,660,776,829,637,550,776,698,585,788,655,601,619,656,725,511,614,742,687,555,684,603,751,581,735,661,675,738,813,657,604,519,735,664,678,757,416,665,777,543,506,493,652,750,729,646,635,647,808,524,769,730,515,773,814,710,413,665,623,738,528,670,622,582,785,605,479,685,538,562,675,721,628,668,506,524,699,828,674,656,684,625,432,549,625,828,770,758,795,687,686,789,589,461,637,584,579,756,663,682,793,691,485,635,650,735,416,754,535,716,539,614,706,758,586,646,631,717,684,800,721,683,660,704,615,667,682,484,628,480,578,512,484,510,606,597,754,850,510,778,636,804,514,730,525,616,687,715,512,479,601,580,807,616,721,501,521,850,759,516,711,512,550,608,618,643,671,689,603,620,676,572,668,695,730,807,592,726,514,567,850,671,670,694,547,751,594,673,610,512,767,585,763,712,539,668,703,662,725,703,659,523,635,772,545,634,739,771,587,681,544,696,766,727,671,693,850,732,726,557,682,738,531,498,651,549,791,650,733,811,707,712,706,756,777,646,714,782,775,479,807,799,675,602,475,744,588,703,747,583,750,681,773,714,687,511,627,694,616,687,712,553,667,731,629,614,438,652,729,642,806,744,474,559,706,628,429,525,680,749,763,734,716,594,644,671,664,656,667,663,584,626,485,659,649,805,716,642,659,545,543,718,840,630,643,654,582,659,762,568,670,613,539,850,522,737,520,706,643,648,443,640,628,540,460,636,593,801,640,611,802,717,769,745,572,629,687,483,690,492,709,705,560,611,730,709,544,712,752,648,556,594,645,557,547,701,616,605,593,751,443,685,718,538,611,668,537,709,850,745,693,795,626,487,556,643,605,756,586,535,678,596,648,492,702,486,568,619,724,548,545,683,762,627,516,800,464,626,790,534,745,553,748,722,501,675,778,494,850,592,590,758,506,733,711,514,637,468,539,509,662,818,608,850,816,536,753,631,703,774,785,571,621,605,611,569,658,788,525,798,486,615,730,641,542,692,714,591,710,639,531,673,765,622,806,757,570,555,692,774,638,543,584,691,684,733,599,524,632,735,734,605,793,468,779,698,707,850,850,527,696,661,776,701,610,572,673,519,702,729,543,550,608,639,686,564,745,833,622,597,721,504,842,587,479,508,749,721,674,685,417,574,590,587,598,741,850,584,650,607,509,689,543,438,687,737,761,601,651,745,648,848,546,439,755,593,701,701,607,586,547,647,760,621,725,526,519,713,700,666,630,779,611,685,646,683,484,601,762,687,566,702,601,699,584,699,698,495,650,605,667,688,727,754,612,546,673,593,656,535,678,477,850,427,752,649,799,589,583,839,540,850,696,660,682,744,785,752,706,583,660,819,673,752,578,438,652,629,720,668,459,729,498,549,601,544,751,632,694,678,695,661,661,559,503,695,640,624,667,642,640,529,563,593,739,788,684,482,591,651,749,583,661,715,769,625,641,716,767,745,589,796,664,445,543,746,742,750,669,594,574,659,750,626,620,580,686,540,634,632,501,650,786,554,701,474,621,672,459,669,776,694,787,580,711,673,499,591,769,657,738,545,497,816,525,725,692,618,546,635,611,650,606,844,450,727,460,649,758,490,815,838,803,664,736,633,664,600,693,663,742,710,710,700,720,684,531,742,717,589,767,636,648,622,692,754,679,639,774,517,571,747,792,688,714,562,704,698,611,850,743,654,761,702,488,683,601,605,671,614,511,850,790,793,628,598,657,618,681,516,421,700,745,696,580,497,720,659,841,642,732,600,464,680,758,630,577,684,708,732,634,633,559,694,686,553,507,732,818,660,773,640,505,714,468,611,705,646,667,511,653,675,523,567,741,456,598,667,548,725,717,594,678,545,636,603,435,535,629,722,561,645,501,502,652,574,518,749,679,565,643,515,521,739,585,733,542,788,435,577,703,728,728,718,621,523,657,727,643,645,568,599,672,685,516,685,806,604,648,545,756,569,596,475,646,784,552,729,609,555,572,785,714,738,639,520,764,661,564,708,512,592,619,775,850,577,724,710,696,376,675,745,697,599,715,659,684,635,789,571,694,665,706,807,771,531,629,850,685,642,529,683,663,563,637,544,649,638,723,635,750,730,750,586,520,652,550,594,749,668,614,773,551,566,569,659,722,655,615,752,661,838,610,811,587,811,759,648,788,725,646,601,521,561,564,444,650,724,719,548,635,496,676,541,778,850,633,625,485,547,642,718,582,628,737,828,609,730,631,830,645,663,678,521,625,523,714,580,722,630,579,670,588,807,726,812,631,682,625,607,600,602,545,675,581,640,850,490,710,613,812,723,512,731,650,594,844,686,695,624,503,535,743,702,658,677,664,766,461,688,678,796,803,712,498,850,628,539,732,715,651,813,692,756,543,790,494,850,703,432,512,589,514,678,420,679,595,713,833,690,731,608,479,519,731,617,756,848,809,698,779,606,612,663,549,675,669,571,500,628,559,769,733,750,583,468,727,618,617,793,630,765,546,614,593,613,655,700,826,652,755,538,729,615,700,434,729,513,755,615,747,850,712,622,548,607,653,699,693,647,478,705,719,726,626,552,807,621,651,673,652,584,756,670,765,528,701,797,639,785,363,764,676,718,590,584,645,772,399,529,463,630,780,584,752,697,850,711,452,610,694,579,745,572,505,706,693,725,791,536,699,500,707,531,557,659,575,775,772,587,667,771,523,662,717,746,569,579,519,696,693,587,626,666,512,689,803,548,588,693,499,628,624,733,628,633,559,704,744,665,638,837,534,548,837,658,554,724,723,585,474,562,719,635,743,681,521,741,790,622,669,583,520,579,698,548,672,653,734,794,641,824,534,653,498,683,618,538,643,428,593,718,811,823,645,710,591,748,850,542,809,675,607,850,789,598,756,687,724,700,635,687,613,781,703,593,743,640,849,778,539,489,568,618,710,625,682,727,794,652,670,460,568,643,521,615,575,717,648,535,626,611,734,709,591,664,431,647,578,555,775,850,625,645,608,689,652,769,611,489,528,632,429,457,768,715,668,625,846,661,571,582,716,758,725,630,627,653,775,794,831,561,705,636,487,693,517,684,620,757,739,662,359,572,721,707,444,523,685,673,503,485,799,585,607,521,535,724,520,696,657,603,726,591,792,550,601,820,667,573,755,552,598,576,670,504,778,558,627,683,556,583,705,637,697,555,594,632,551,687,672,521,686,639,850,465,817,578,611,616,517,637,806,633,624,691,819,568,806,726,552,755,634,756,776,649,595,646,592,574,850,850,475,642,710,596,609,797,504,735,680,449,685,569,631,595,461,630,661,796,710,741,606,747,549,576,528,535,575,656,440,539,850,646,744,710,544,723,507,787,598,796,569,711,661,415,578,611,600,661,850,573,764,838,821,607,558,530,654,530,656,520,602,701,653,668,652,639,730,780,592,628,658,850,515,571,760,720,632,694,559,773,581,524,713,676,651,717,594,716,668,678,545,613,687,715,618,721,445,690,709,671,538,735,592,747,675,632,621,521,591,706,677,769,771,601,670,517,834,571,576,718,636,566,711,574,619,588,760,665,739,641,685,594,557,697,656,712,689,697,589,525,680,617,680,662,736,657,350,617,562,705,516,573,538,699,504,583,712,626,631,663,506,570,703,698,731,625,634,616,500,446,669,581,704,748,680,655,690,695,700,773,749,611,606,554,567,559,594,513,652,680,784,812,784,570,712,705,681,620,711,613,613,682,850,601,595,675,591,602,554,541,506,814,683,485,696,608,792,686,790,654,452,719,707,699,850,828,850,712,634,730,685,809,707,648,760,805,585,595,630,627,631,776,676,758,637,850,601,735,614,672,642,633,769,796,715,695,747,584,476,850,529,584,586,674,552,601,541,744,595,724,533,618,523,642,584,521,662,758,717,611,766,636,814,760,607,725,600,656,640,439,549,622,715,657,703,802,793,554,533,658,713,711,669,439,763,697,702,686,629,823,683,555,647,714,850,713,452,683,577,552,769,691,818,739,639,651,779,850,829,579,510,531,628,633,714,604,630,850,788,798,770,569,425,547,725,506,632,620,663,700,696,767,561,350,706,464,501,745,587,667,737,485,590,518,581,785,799,698,730,740,785,527,544,705,684,639,565,481,731,607,760,559,715,656,652,624,634,850,659,529,572,640,770,648,579,589,530,831,790,656,563,667,613,429,665,731,584,634,488,535,776,850,673,850,627,570,796,773,752,625,535,786,620,605,670,617,595,687,757,746,503,543,428,768,618,591,658,625,717,667,804,693,729,484,632,536,573,655,666,726,523,728,701,518,739,531,452,684,728,783,734,648,688,680,516,680,604,624,623,624,565,565,710,645,707,655,705,358,578,800,612,681,559,488,717,666,582,733,693,694,622,598,717,494,644,554,476,667,748,531,719,845,738,563,695,841,626,613,824,705,584,534,672,603,633,842,661,601,632,684,785,687,705,639,729,556,570,841,705,553,779,696,728,691,706,627,716,501,601,545,634,451,655,458,520,624,765,667,665,709,583,782,668,621,579,547,840,667,723,487,668,520,549,567,720,492,712,689,850,747,469,539,743,707,581,737,445,703,588,765,626,545,744,658,629,719,686,743,626,661,710,654,569,640,562,721,456,811,534,423,594,725,716,595,679,667,661,655,555,531,611,600,531,601,548,759,678,755,594,768,492,637,646,593,596,722,642,472,738,732,404,701,683,460,690,618,671,765,651,704,544,790,710,743,702,704,614,609,688,713,736,727,850,718,643,653,674,690,819,634,633,850,665,630,836,668,753,745,693,606,660,608,744,731,683,727,561,700,605,767,511,667,787,705,773,554,526,661,698,646,757,699,667,774,745,649,634,665,713,652,739,556,699,708,480,700,525,845,613,850,798,773,614,473,762,701,600,850,613,509,509,609,456,728,663,673,717,741,498,850,493,686,666,733,631,714,767,711,722,631,701,790,633,644,757,696,746,649,565,720,648,632,622,835,493,785,681,621,756,515,625,717,595,539,762,706,677,733,684,679,478,696,686,466,686,576,763,572,757,582,623,617,425,659,605,538,665,491,726,580,550,542,732,473,745,732,848,572,702,664,630,618,556,619,644,658,598,677,689,591,699,749,709,607,650,651,676,723,714,759,582,697,610,488,599,781,645,545,597,561,662,649,630,672,636,593,545,567,583,681,762,648,644,706,850,484,508,439,484,803,724,640,701,537,651,523,717,593,706,714,794,518,589,824,719,617,651,637,554,731,569,625,592,669,663,518,686,709,571,707,701,672,620,557,648,479,730,737,616,639,815,786,549,622,624,841,614,676,697,732,623,541,773,762,655,602,850,649,850,543,672,600,671,706,541,711,630,531,641,631,685,702,708,653,654,596,549,754,815,556,706,850,732,614,580,593,653,746,662,573,684,793,798,524,816,742,540,537,759,774,608,704,581,628,566,701,735,680,560,663,665,758,621,764,537,589,555,734,783,678,661,607,537,513,576,660,637,672,629,583,763,516,617,700,727,689,626,686,351,739,627,451,512,774,652,638,475,567,750,850,753,683,710,645,714,696,612,520,782,666,466,567,613,718,614,711,691,527,476,619,607,695,653,677,655,625,679,734,666,592,564,814,592,758,612,498,638,558,756,782,505,671,801,604,716,624,607,827,606,717,651,691,573,723,584,550,611,549,850,668,686,660,682,524,645,850,537,599,727,756,755,634,837,727,567,650,655,763,843,667,705,660,553,612,641,513,680,711,689,665,551,645,616,582,365,697,704,656,712,748,724,691,563,741,778,848,634,505,692,537,633,833,592,587,550,680,622,594,643,540,635,657,814,600,682,682,566,550,630,546,486,762,692,498,850,603,551,627,515,605,567,568,571,634,768,554,629,638,576,661,592,702,647,593,712,625,538,637,632,736,755,425,461,745,616,587,850,601,730,532,850,779,562,670,729,767,742,669,542,586,612,740,584,524,614,598,799,724,601,804,745,667,518,819,520,625,673,656,850,574,679,530,508,558,414,648,721,751,662,628,597,698,723,586,633,564,649,622,459,718,655,696,637,630,592,634,608,565,763,665,649,695,775,788,569,726,564,544,614,453,471,829,754,749,667,670,670,623,571,641,551,741,472,650,625,650,535,649,689,694,655,620,577,401,599,481,704,698,480,682,700,492,444,624,709,557,646,719,706,660,667,705,598,669,580,676,714,597,559,564,850,689,758,604,733,778,732,646,597,821,640,511,805,540,705,540,532,535,627,646,515,697,652,579,760,769,498,774,705,648,688,592,705,654,624,594,695,597,758,737,694,683,538,669,730,622,714,569,668,628,600,693,704,527,553,575,626,582,683,850,653,679,549,850,558,528,801,513,666,606,599,544,529,850,497,764,603,609,487,748,710,432,534,607,551,674,525,645,755,708,715,727,559,545,524,707,671,439,667,831,545,604,657,487,750,694,711,551,559,620,660,449,703,795,594,586,613,601,657,531,621,782,528,696,586,626,498,691,568,715,680,802,539,494,594,596,649,699,787,604,489,651,698,578,538,696,507,685,705,499,717,510,632,668,744,663,638,688,588,631,687,599,718,730,533,711,555,850,678,576,835,592,774,620,519,734,763,733,650,538,577,792,686,589,530,778,616,550,655,721,499,511,579,696,681,815,681,641,591,565,487,729,505,580,642,850,616,526,523,663,840,570,676,689,703,491,584,810,745,625,535,729,655,751,525,532,696,786,580,596,683,747,602,779,551,666,526,849,471,628,674,797,590,588,577,571,680,648,618,648,759,585,774,697,605,676,678,495,787,770,817,659,693,744,829,716,671,835,636,649,621,658,784,783,615,791,762,607,601,540,812,685,680,680,631,569,584,582,609,506,503,503,806,653,666,674,798,740,531,614,556,678,587,527,757,468,693,483,466,770,734,716,439,538,743,734,656,666,627,480,792,613,476,539,696,810,763,640,655,526,678,554,597,560,850,546,623,698,620,619,561,753,721,451,680,590,634,676,642,760,736,656,776,832,631,795,648,615,682,694,694,607,664,756,645,653,710,697,619,648,482,548,752,648,643,573,686,644,702,652,641,692,574,643,834,591,470,608,649,665,651,555,637,675,677,850,815,665,485,577,586,722,528,542,552,678,575,669,636,667,652,637,516,801,692,585,590,554,659,690,697,610,599,544,548,635,722,564,719,547,850,515,667,607,525,606,686,611,827,572,726,579,598,663,505,576,555,524,776,645,850,603,691,583,584,679,646,559,595,527,684,673,802,675,762,580,621,411,815,631,514,638,791,516,734,611,850,641,585,552,507,735,707,698,841,688,614,511,447,738,422,537,707,690,664,850,584,728,560,629,658,794,790,640,652,583,775,584,635,814,735,678,693,640,773,736,693,496,751,528,754,568,592,558,825,677,653,593,632,601,786,654,572,813,523,506,513,664,684,608,527,666,779,629,430,712,682,634,487,808,527,637,802,529,850,738,817,735,619,671,581,690,579,688,599,729,718,712,474,565,658,714,725,825,665,670,474,591,508,695,660,687,658,705,739,844,602,759,747,673,671,640,581,630,703,698,742,652,644,735,777,644,665,529,803,604,738,655,698,775,735,766,537,599,420,674,570,623,710,466,759,581,820,759,628,676,591,690,624,573,694,632,632,832,598,430,711,582,605,657,578,532,612,792,674,680,593,679,493,688,769,581,465,641,731,625,468,790,587,692,676,571,700,445,746,722,596,850,597,436,660,649,646,560,710,513,607,757,619,612,842,713,657,770,773,470,781,428,600,697,692,791,538,820,679,649,632,594,682,720,769,746,623,537,468,588,729,543,499,784,604,614,671,587,593,453,570,655,632,681,591,779,456,686,617,850,646,735,543,490,640,445,761,426,777,534,777,806,790,643,584,638,771,600,661,554,627,659,835,763,625,799,849,692,623,453,408,778,695,677,662,534,602,554,667,672,838,692,675,731,468,542,662,770,675,647,604,833,741,658,528,590,675,765,650,817,699,495,491,847,676,746,470,714,695,674,664,697,670,541,640,647,757,704,778,639,637,686,577,506,757,826,721,489,446,677,769,677,555,652,722,643,796,720,613,506,608,667,750,610,588,479,682,677,850,580,746,635,664,558,415,798,792,489,730,773,711,592,695,640,470,789,604,493,671,656,739,560,827,681,740,663,845,555,680,638,640,778,679,593,788,770,729,545,597,537,732,542,688,542,754,750,731,699,534,494,497,632,724,751,733,701,525,666,653,850,646,750,764,658,727,687,631,797,650,850,676,620,576,482,695,706,668,679,703,670,590,613,742,608,571,595,745,589,749,678,603,504,739,604,612,629,652,565,707,645,762,639,709,823,817,665,646,568,850,473,731,619,715,772,686,749,781,675,730,683,554,722,689,796,447,498,663,498,627,649,738,587,655,647,776,688,605,596,427,629,496,717,777,535,744,755,593,514,721,835,682,590,653,837,841,584,769,599,698,477,477,745,749,850,528,750,543,579,624,595,596,431,647,640,752,710,638,660,609,596,705,444,727,496,554,537,839,700,458,850,699,615,850,604,668,594,470,701,664,477,756,625,703,646,650,664,682,725,553,576,608,850,627,667,548,774,794,497,587,850,722,555,609,734,718,645,598,628,629,739,653,711,783,681,712,554,611,560,646,680,631,746,654,687,708,679,636,695,677,720,780,653,674,620,623,547,530,746,512,630,570,605,530,813,704,565,645,526,778,677,588,488,519,709,642,710,653,743,418,670,723,549,543,595,673,741,508,662,752,809,575,591,643,698,496,597,603,655,431,620,782,581,553,658,686,539,685,850,763,634,567,539,764,653,566,714,580,548,646,622,706,680,698,581,728,707,761,483,736,716,654,649,649,612,657,511,682,748,554,794,807,594,652,729,625,597,657,633,663,535,702,712,607,476,748,815,602,649,551,509,685,536,711,761,535,566,620,837,685,673,638,614,626,834,691,706,633,644,666,708,496,730,696,809,701,604,665,639,696,520,545,634,750,530,589,654,648,835,446,514,694,554,720,641,813,480,811,715,620,721,772,680,535,655,660,762,662,463,501,603,688,430,632,601,769,551,841,469,479,701,593,738,635,658,687,650,720,602,618,803,793,616,550,602,452,655,510,557,676,640,529,559,689,626,697,823,565,631,646,676,850,810,581,718,713,672,781,656,583,808,721,778,850,693,520,759,637,755,662,503,599,583,764,513,730,820,597,637,696,635,673,662,683,850,815,671,601,709,702,558,691,700,667,624,580,571,561,529,670,666,628,577,652,678,692,675,712,639,618,554,533,540,704,678,712,651,789,775,564,841,850,637,500,655,666,658,749,654,623,761,627,757,695,726,587,605,850,850,751,627,736,652,627,636,775,850,850,516,513,673,564,636,712,568,741,754,709,510,716,607,656,550,486,598,675,755,656,644,598,850,679,632,550,572,626,625,515,612,628,529,668,526,791,573,565,604,656,447,682,437,792,627,767,686,789,794,587,589,543,589,701,850,726,767,648,651,633,740,592,670,628,745,705,559,595,492,498,655,636,634,793,526,768,540,732,617,637,573,531,489,601,452,728,590,490,596,635,782,790,587,794,515,746,667,709,536,711,753,748,623,465,640,562,502,536,670,775,759,604,766,554,487,725,732,623,781,714,577,731,650,779,706,733,579,476,775,538,602,615,700,615,544,573,555,692,476,770,641,705,784,727,576,646,638,632,850,492,673,609,701,651,508,616,489,567,714,678,581,748,781,691,507,724,705,708,580,850,714,559,577,647,554,549,528,720,743,615,635,686,840,695,564,805,558,657,641,755,483,545,678,781,571,634,523,501,662,573,648,662,725,563,628,546,688,850,614,719,757,669,438,492,622,645,728,651,783,732,553,660,670,718,787,775,479,660,721,659,743,670,766,845,710,602,604,564,637,527,687,756,503,657,666,615,712,764,471,608,682,587,714,630,648,785,601,717,707,771,602,626,588,616,621,674,633,698,508,736,672,613,712,624,676,683,489,739,701,666,565,666,633,578,812,809,615,684,544,713,633,672,661,749,635,850,641,633,413,538,437,612,516,826,660,646,767,640,778,679,549,598,655,494,653,539,645,751,528,696,716,602,647,850,590,825,850,789,701,713,570,536,771,512,698,656,761,709,597,592,599,572,611,634,666,696,669,726,497,750,850,617,652,560,629,660,676,581,798,705,714,664,697,609,548,850,656,727,642,710,710,718,586,617,630,791,673,477,662,850,635,537,579,651,610,581,592,688,681,658,792,528,624,562,678,705,650,593,652,554,584,516,789,598,669,645,659,833,697,580,691,534,478,572,501,624,595,603,602,500,422,615,635,711,834,633,650,743,567,706,638,641,574,642,722,623,681,530,797,653,850,581,589,555,748,745,730,565,778,812,526,708,680,567,564,709,629,510,506,605,650,850,489,659,753,477,610,619,619,758,516,789,687,485,446,597,712,522,805,781,689,670,670,524,734,489,578,622,843,687,700,410,537,780,652,620,697,786,850,749,445,443,637,616,756,644,850,703,684,706,580,777,676,708,809,588,623,537,536,769,690,771,497,622,602,543,520,669,631,537,732,844,838,652,660,692,588,533,850,511,530,554,585,754,474,837,567,800,646,627,505,566,619,757,648,621,543,658,633,648,501,683,619,705,638,710,590,725,638,791,702,607,535,651,506,511,757,768,757,663,537,570,850,661,659,454,708,720,785,743,493,557,850,799,756,752,696,630,659,685,599,559,615,580,487,646,811,526,767,548,737,613,711,850,752,710,664,510,577,529,757,691,621,709,756,788,705,483,719,793,593,551,690,823,512,802,450,651,697,611,643,822,632,575,672,517,621,775,600,640,752,613,484,511,745,786,727,622,794,636,741,687,660,660,617,762,752,561,609,803,556,531,411,587,683,654,670,655,752,534,635,491,516,530,687,684,706,490,796,849,779,794,748,663,645,464,737,590,522,648,754,669,648,763,790,581,703,571,657,737,793,783,751,579,655,614,678,562,711,620,437,691,552,765,707,764,585,784,605,699,544,803,735,673,652,694,741,590,809,523,540,596,597,407,748,562,734,710,539,542,717,682,515,526,702,651,792,817,674,641,513,561,627,682,683,420,670,505,580,577,773,616,763,640,592,528,630,529,546,753,772,567,628,658,679,629,731,775,660,752,655,543,811,689,531,515,466,782,611,621,604,655,689,681,643,617,638,743,828,776,540,616,628,667,615,543,553,554,684,452,606,629,659,493,794,554,796,807,500,722,559,584,834,754,590,740,502,733,755,554,534,656,575,480,575,672,758,682,501,746,556,823,491,638,734,555,745,728,626,681,478,709,562,769,684,536,631,657,699,606,612,660,829,567,850,712,562,755,793,471,707,784,703,704,662,636,640,739,767,753,714,707,577,633,849,614,558,832,567,587,712,655,641,676,472,644,598,792,700,616,743,427,731,610,724,653,774,547,719,740,543,688,474,505,688,650,610,705,669,650,550,595,572,622,662,783,714,671,600,847,650,710,682,642,536,754,678,533,741,757,721,700,663,677,655,832,721,542,654,821,508,588,691,664,439,479,850,518,717,698,850,700,626,774,719,646,485,784,850,669,731,721,515,774,585,695,729,713,555,699,587,762,510,842,608,850,642,850,455,726,544,651,814,537,553,800,791,699,756,591,850,760,569,661,670,694,728,764,639,683,663,826,735,682,663,562,696,850,719,804,604,782,512,569,597,753,430,756,493,777,779,702,551,749,742,752,740,576,637,724,685,625,571,584,550,662,803,615,481,701,751,675,733,822,559,731,678,645,701,554,723,766,597,574,655,780,672,717,521,633,669,740,462,619,665,655,463,799,713,807,728,582,704,714,628,809,547,560,811,584,691,680,588,721,850,529,622,683,575,577,510,652,569,687,822,656,745,386,684,635,582,613,795,659,745,604,509,706,619,572,695,543,640,672,701,634,531,699,605,534,449,684,622,714,712,783,743,683,654,700,744,645,525,732,721,622,654,529,720,850,667,620,616,637,710,717,786,651,530,815,715,496,680,646,807,727,787,806,603,649,547,684,477,558,695,592,789,597,839,405,658,684,633,589,750,771,812,539,670,673,538,575,682,712,598,776,606,686,850,642,606,627,850,850,724,579,727,813,642,669,574,774,735,639,738,835,637,589,591,723,831,733,731,654,828,590,657,531,516,561,682,575,623,642,779,671,495,850,630,588,562,740,695,589,607,794,580,644,636,599,507,682,714,696,599,577,733,647,831,543,679,713,690,751,613,701,698,451,665,726,608,549,803,663,558,714,704,805,659,738,635,530,661,531,694,731,556,647,850,573,591,723,617,704,457,787,651,612,828,724,648,569,765,577,603,568,748,573,771,763,410,728,655,580,712,680,383,721,620,774,563,850,681,631,614,704,786,534,590,583,656,597,588,667,627,708,641,527,592,465,628,678,570,815,817,717,641,624,579,698,645,691,638,705,720,553,658,648,636,527,717,614,737,587,682,710,507,609,786,688,710,779,733,583,627,666,620,614,606,700,677,850,564,771,620,610,609,683,633,676,693,709,569,684,565,681,503,656,566,592,687,686,616,494,534,695,579,432,816,730,593,715,775,539,576,617,688,608,597,670,616,579,786,704,796,598,602,619,492,641,518,623,733,625,759,604,512,520,805,626,656,785,553,569,670,586,617,508,624,654,681,578,621,632,644,821,754,568,584,549,729,523,477,675,782,616,738,717,526,660,525,629,616,521,691,687,677,695,663,496,747,546,706,472,703,850,667,559,636,672,667,648,497,743,619,639,540,766,749,655,630,778,757,529,620,615,735,705,644,505,471,722,577,744,573,653,660,787,617,567,682,684,447,625,585,516,732,628,682,746,655,644,778,617,660,537,554,806,611,665,648,692,507,696,681,687,641,507,688,535,701,488,539,674,538,829,768,585,581,682,653,712,620,709,832,635,749,629,836,542,645,844,747,645,752,760,714,717,645,681,681,679,528,710,733,724,726,520,556,579,674,570,631,623,665,523,706,619,593,608,526,684,604,636,669,624,631,753,588,729,602,689,486,809,562,763,669,709,554,699,732,625,599,584,499,526,625,537,696,679,684,850,495,537,850,513,618,802,547,613,592,546,721,671,624,751,636,607,509,653,709,559,684,635,709,656,793,609,618,850,669,594,616,676,608,710,695,530,509,517,758,665,631,576,544,596,481,498,512,594,570,721,453,562,682,748,729,663,735,627,713,562,632,479,658,598,597,512,704,474,604,683,537,794,732,495,552,602,607,675,443,727,482,686,588,605,583,738,744,781,699,639,583,587,694,570,692,511,788,526,749,691,481,752,658,679,754,679,633,674,600,645,698,508,555,751,738,706,595,577,578,699,826,656,556,569,765,544,588,740,850,766,849,612,517,645,696,716,590,656,473,742,834,721,590,516,850,748,798,612,540,719,598,796,579,850,599,724,508,773,526,542,470,805,548,672,773,614,537,704,586,677,558,634,655,619,662,705,527,630,850,668,573,680,758,597,580,622,638,640,644,753,629,775,701,708,521,636,529,757,767,525,759,520,738,548,535,615,850,487,731,726,609,714,694,786,698,601,769,850,646,659,487,740,686,612,655,617,674,711,624,597,682,775,727,629,684,549,593,536,707,592,703,723,452,552,633,479,768,742,668,707,754,544,718,762,772,691,502,563,676,576,629,625,628,471,811,504,687,660,548,609,659,526,725,519,562,482,535,561,661,771,545,850,601,712,589,600,642,575,570,532,796,833,642,655,736,617,762,703,507,581,593,648,462,596,627,494,627,850,632,490,715,679,619,465,736,501,535,759,819,533,632,686,687,667,699,497,780,652,477,652,488,572,755,779,693,530,738,690,611,643,632,727,508,550,754,759,794,549,671,756,632,579,748,488,710,619,773,657,579,542,709,617,568,769,608,503,608,731,850,591,579,570,709,611,775,699,618,704,835,714,581,592,551,689,604,514,698,581,573,449,850,612,690,599,498,497,802,644,714,690,522,502,730,590,458,553,479,693,707,636,807,513,582,694,777,598,762,588,663,777,592,631,725,850,540,674,553,630,466,613,558,775,698,608,670,591,633,678,590,705,608,682,596,395,578,547,609,774,712,585,666,708,513,445,690,850,537,705,670,652,696,747,511,743,532,642,554,604,602,757,491,850,521,726,596,850,637,690,689,633,555,563,494,534,696,535,600,807,714,590,614,766,557,788,648,726,773,583,565,705,685,741,658,575,844,559,725,450,738,642,618,590,735,550,729,743,555,667,790,727,744,629,619,634,608,507,536,730,583,644,790,807,581,627,850,754,551,637,699,542,640,553,741,598,660,618,647,491,652,650,413,416,629,678,527,743,683,536,663,646,707,602,635,597,503,524,700,692,562,679,603,720,797,594,529,606,621,513,753,605,574,726,611,593,466,741,684,550,593,601,676,556,719,850,649,509,684,806,729,683,689,672,602,739,618,674,762,790,754,729,606,616,772,652,743,793,743,746,627,713,678,540,615,415,628,700,623,623,679,632,790,514,491,753,693,679,529,619,680,693,834,636,538,566,597,711,606,615,589,606,582,710,467,749,564,730,678,540,767,615,583,850,651,798,695,497,739,549,850,648,679,606,850,619,719,640,710,580,550,841,760,687,753,661,699,617,595,669,613,782,582,679,611,455,621,596,585,742,850,738,619,628,487,513,563,803,607,628,521,669,686,700,663,671,651,728,574,464,604,836,511,518,756,489,622,652,625,521,546,697,571,748,591,814,709,433,781,656,683,620,637,525,793,638,520,641,840,504,686,533,577,445,720,643,652,663,525,662,724,581,685,595,588,647,785,794,823,687,850,496,527,576,525,727,671,625,643,707,539,498,696,758,685,655,747,601,477,558,586,850,505,591,761,554,774,771,792,673,765,748,422,568,502,524,689,661,606,678,636,647,732,646,559,581,565,657,847,558,596,579,741,613,694,729,480,666,575,850,740,588,681,611,589,717,556,850,685,713,437,605,758,600,827,608,608,554,683,660,628,668,776,820,665,850,703,506,588,622,606,517,758,677,827,729,654,654,619,642,472,470,633,602,640,454,562,636,621,795,550,630,573,561,662,637,651,646,567,638,725,709,787,653,661,681,436,663,662,607,754,850,578,666,599,586,825,808,515,663,444,650,609,824,662,699,752,603,628,745,804,454,631,503,548,668,619,842,707,715,573,509,670,613,678,555,777,552,640,541,756,684,618,604,624,661,627,812,473,717,693,705,661,573,639,718,570,461,638,608,599,762,662,747,539,625,656,469,621,754,679,535,487,850,585,603,728,621,833,502,825,668,487,600,606,623,575,577,651,693,800,760,711,637,662,568,692,614,478,562,709,684,546,779,576,481,445,606,559,608,698,568,528,802,669,581,640,529,547,718,707,735,765,469,594,675,703,810,715,664,850,724,563,714,614,740,587,465,689,656,579,716,551,527,600,685,738,622,528,546,576,733,727,605,586,564,593,736,675,656,462,685,850,636,850,628,798,610,591,614,651,665,570,631,586,691,639,698,733,850,618,473,490,754,649,578,690,610,596,492,575,569,674,507,457,584,744,687,688,519,733,666,511,705,544,564,702,658,654,649,597,782,644,679,678,806,668,659,660,601,781,628,751,531,647,708,550,670,592,589,725,570,575,501,431,719,850,554,418,715,750,766,652,658,659,574,611,738,571,686,679,617,673,745,677,613,576,584,663,466,510,619,696,554,595,659,662,556,701,587,571,539,644,572,753,706,588,825,627,532,764,700,660,518,557,639,557,633,623,611,666,521,775,681,564,646,670,751,544,639,635,672,639,697,850,748,463,572,741,646,805,637,651,672,493,524,624,569,677,464,718,594,574,478,615,651,465,558,540,568,630,523,678,438,544,595,678,850,589,785,563,602,591,643,605,755,769,620,725,818,624,669,712,603,597,580,718,527,729,746,699,759,748,698,686,679,682,778,742,649,763,595,628,625,733,665,805,725,554,675,556,635,601,600,758,606,640,753,559,754,621,654,650,831,519,552,577,576,646,711,806,670,679,850,670,733,764,673,588,564,715,621,796,672,527,722,596,746,523,624,553,850,599,492,707,743,522,681,826,630,430,806,703,755,612,719,554,683,749,724,770,680,699,442,529,574,605,515,632,558,434,525,640,690,607,850,780,616,618,676,507,490,678,637,602,744,640,684,495,559,684,613,794,736,692,703,720,777,653,552,708,647,597,501,709,621,799,675,561,707,670,649,524,689,573,657,686,683,753,520,547,653,648,639,711,484,721,548,679,553,757,581,718,625,744,799,751,781,777,704,539,716,670,555,679,571,512,697,424,684,697,580,600,521,664,634,445,702,485,582,605,628,604,724,567,779,785,563,821,747,600,625,773,726,641,649,434,738,762,507,606,655,697,504,653,660,652,669,594,756,642,486,804,629,581,667,667,679,680,644,571,627,536,599,744,709,653,648,663,613,620,661,669,767,491,653,679,687,837,850,663,547,627,707,629,687,588,502,793,727,632,474,850,584,713,742,607,761,600,650,850,501,418,797,788,699,616,651,654,676,708,499,689,850,502,643,762,719,789,553,448,632,669,654,726,596,733,529,493,615,600,666,644,692,707,603,671,568,598,606,850,644,655,850,683,663,682,639,704,691,599,573,589,620,647,737,634,660,666,696,836,667,596,430,596,599,519,721,603,572,453,668,762,633,647,796,733,556,489,639,715,807,714,626,697,850,737,812,583,730,677,748,753,634,622,699,570,552,619,714,503,685,606,678,724,779,638,610,646,628,528,432,622,721,614,634,742,516,718,636,691,698,712,659,573,778,732,550,790,665,728,645,647,596,610,512,768,666,700,651,542,686,850,658,448,609,704,698,759,677,544,567,490,626,718,616,772,561,814,651,538,600,654,622,682,610,795,557,824,698,630,609,694,681,721,563,654,659,674,576,566,545,798,757,641,718,699,623,644,586,500,583,595,670,610,814,660,580,850,676,578,579,711,692,760,630,808,611,697,655,601,755,553,723,507,777,566,732,697,555,584,705,688,626,636,719,706,731,738,426,622,701,512,635,685,609,598,708,574,629,422,656,697,718,586,481,749,561,676,615,582,601,708,708,797,682,694,490,828,594,579,723,619,794,674,418,502,678,599,736,430,537,683,828,691,608,691,718,680,838,695,681,762,751,678,634,749,590,610,502,578,547,579,661,794,719,728,598,822,670,850,723,705,677,736,661,501,516,517,766,520,541,790,797,811,722,675,660,566,768,610,715,750,431,704,535,614,748,492,573,706,680,458,612,809,590,602,540,494,797,526,631,576,405,555,750,665,640,457,695,645,647,808,641,700,660,615,705,718,754,713,587,569,568,634,770,676,723,614,601,592,605,752,677,850,608,786,777,667,848,486,598,506,612,545,793,682,517,684,692,740,666,693,757,684,691,842,482,735,681,616,850,635,638,820,694,713,543,649,777,561,724,665,441,579,777,739,660,554,850,842,785,550,750,490,605,563,675,621,850,711,549,764,627,850,614,685,683,643,561,601,766,699,850,792,636,850,628,736,711,583,757,749,705,585,437,741,738,586,627,551,606,674,584,590,585,508,458,692,502,518,660,698,678,773,619,684,635,680,608,603,579,756,611,532,684,647,583,774,677,542,613,666,777,581,705,673,594,648,605,734,572,595,749,573,624,703,665,648,850,569,566,537,706,734,586,612,648,557,643,433,643,488,758,743,730,746,666,580,850,563,766,659,607,644,746,588,691,666,640,611,651,529,676,639,782,641,697,623,494,731,657,744,774,850,551,638,792,666,716,594,600,565,678,648,642,706,668,635,603,635,642,785,628,499,567,449,701,613,683,581,620,561,558,642,805,687,695,562,613,589,593,714,588,679,730,833,586,567,637,711,828,500,807,850,782,629,582,468,670,805,720,781,592,542,532,520,759,473,639,705,530,516,850,746,622,743,732,850,850,686,556,673,809,634,630,564,625,677,583,592,637,850,633,751,592,716,641,849,647,608,555,497,599,545,774,464,696,667,812,516,645,664,427,685,585,519,708,717,465,829,826,747,707,590,603,615,634,716,647,591,574,467,701,747,650,731,638,569,459,632,683,850,512,616,664,694,655,607,684,763,671,592,666,667,850,622,577,555,547,613,672,624,698,606,720,835,771,811,734,548,652,707,605,623,686,525,657,730,816,484,728,730,477,663,549,714,430,504,530,619,617,791,609,780,777,817,850,732,693,576,643,757,569,772,576,608,794,593,597,541,692,697,768,802,584,614,850,671,626,770,633,663,581,561,479,769,659,590,560,437,661,677,560,578,421,492,545,640,624,577,704,523,793,564,711,791,629,729,651,695,847,704,613,692,720,577,710,716,410,584,792,605,486,615,676,571,850,717,642,780,492,760,500,654,606,367,799,434,719,641,461,790,588,621,768,681,606,542,713,597,635,599,496,759,757,564,561,702,678,707,610,744,598,562,621,659,722,606,603,506,715,690,644,589,592,632,577,588,617,668,810,767,718,589,778,724,477,580,566,711,706,703,679,603,598,836,687,704,605,516,572,557,443,604,483,702,670,804,850,554,588,758,787,582,633,766,564,602,649,679,639,790,565,478,825,528,577,663,505,633,586,850,629,744,750,637,575,671,571,590,619,640,670,737,555,742,618,560,654,787,611,559,481,753,675,748,610,580,624,709,605,706,567,747,664,711,609,632,725,850,682,797,668,783,766,704,722,692,584,644,598,733,615,850,521,675,746,770,618,556,749,702,555,587,639,643,600,651,666,520,650,564,586,617,712,654,605,491,707,638,683,815,645,645,683,705,647,786,534,602,695,553,516,655,849,520,568,695,807,642,703,556,585,587,524,556,504,731,651,675,657,686,690,567,557,446,850,637,499,622,684,612,813,850,795,628,565,601,802,614,434,522,550,599,493,755,605,708,699,763,743,660,619,739,769,692,560,607,630,767,543,776,535,549,844,586,583,701,726,829,749,743,619,699,749,600,760,528,630,683,677,669,693,612,719,702,755,514,753,548,850,612,628,479,724,512,638,834,781,707,670,663,624,598,619,792,683,691,765,508,637,667,575,744,567,502,609,715,541,850,595,650,625,817,526,850,598,613,709,678,720,662,525,662,770,721,633,701,556,639,632,456,729,632,433,802,670,738,706,592,522,746,651,494,753,671,696,577,587,712,498,660,678,530,559,624,592,767,653,678,586,550,643,612,674,657,724,500,688,599,631,634,545,644,690,711,712,627,694,534,603,808,723,585,706,671,597,646,801,731,620,484,647,688,680,689,513,553,689,517,731,687,507,468,682,603,522,629,729,574,677,627,788,697,578,519,632,679,699,615,622,755,767,752,633,717,585,751,754,495,650,529,585,668,591,731,754,650,588,712,691,771,678,719,610,722,758,709,634,678,633,710,640,656,551,786,561,807,602,727,678,730,596,686,684,797,658,653,641,656,750,768,568,706,430,745,747,657,639,704,651,706,632,751,767,741,651,601,520,626,811,730,604,499,754,716,636,470,444,809,850,637,512,774,641,586,611,660,532,557,730,535,773,510,539,690,821,687,557,532,540,705,542,706,765,529,714,582,609,518,791,747,565,735,697,813,772,606,667,637,542,762,698,850,621,671,775,504,751,691,841,709,673,541,661,784,742,850,443,778,529,678,516,469,786,703,579,565,443,589,691,711,775,621,350,668,633,697,734,434,646,764,727,724,749,706,728,636,634,627,518,687,622,693,450,664,663,660,579,655,683,655,575,574,795,776,707,705,678,663,748,677,634,350,727,773,675,649,552,761,622,615,681,768,617,452,807,567,603,617,701,820,438,600,782,638,850,741,689,743,493,416,725,497,537,706,651,720,797,543,454,691,510,792,721,765,850,681,586,753,593,674,610,652,850,740,637,685,558,677,592,652,662,543,675,643,611,412,638,824,683,562,599,753,594,657,716,850,664,558,606,776,557,614,620,695,729,571,457,559,664,500,782,708,681,674,697,774,624,747,715,808,678,813,687,832,668,526,457,649,669,668,466,685,610,582,702,556,812,645,809,560,744,731,471,686,668,575,435,743,580,599,534,680,631,485,699,712,603,850,584,604,586,467,520,683,557,613,786,593,670,657,718,623,496,429,606,499,642,641,673,570,472,550,625,516,682,620,626,623,569,724,678,713,631,846,660,567,731,693,772,657,774,667,516,551,542,623,701,583,731,461,702,565,711,664,518,728,585,573,568,602,603,687,741,469,477,737,835,717,562,758,408,650,582,706,567,720,631,623,514,650,673,504,723,645,664,760,766,634,640,784,547,608,547,612,573,615,710,674,702,616,688,605,676,708,745,661,726,475,751,645,775,540,591,596,573,577,830,663,421,718,655,712,663,640,577,546,802,590,594,577,541,781,806,723,535,768,653,803,545,581,513,731,727,560,766,630,652,729,629,667,671,768,732,546,630,765,704,470,688,685,567,720,609,521,556,662,704,750,619,468,435,529,702,608,576,666,730,647,516,711,736,768,427,686,690,647,714,736,608,809,745,781,527,595,850,569,728,473,738,659,597,445,671,656,658,698,655,772,681,688,633,735,521,541,612,562,703,710,731,703,618,689,718,608,749,753,630,693,838,756,775,635,705,481,727,595,535,578,597,449,850,494,676,818,712,672,636,698,597,717,614,708,507,581,579,504,737,540,609,778,621,665,608,680,663,627,607,681,766,694,411,742,673,529,519,573,453,798,693,637,672,597,543,695,584,652,601,628,607,646,572,801,597,613,529,794,557,499,544,739,458,528,773,646,564,624,682,726,560,382,457,673,584,629,584,724,644,676,499,598,655,559,543,679,594,586,776,699,847,582,648,618,543,642,462,640,740,773,583,589,509,612,505,546,681,762,786,629,787,713,541,451,644,686,847,765,678,539,800,799,629,734,542,414,675,683,748,596,642,499,649,739,616,560,427,435,633,443,727,674,661,619,562,633,551,720,688,635,561,850,636,461,771,713,658,586,737,742,824,701,623,744,698,616,662,594,685,742,678,651,585,579,722,613,694,550,741,668,529,636,563,767,644,780,635,641,593,540,663,630,605,710,755,641,737,695,466,558,665,737,654,619,845,727,582,716,660,664,801,615,718,667,670,590,739,373,418,837,645,552,580,684,634,607,802,736,629,737,718,561,641,677,641,658,659,567,584,709,690,627,765,645,716,771,687,717,524,679,538,752,846,532,670,597,627,700,766,488,694,639,705,810,638,595,575,850,419,640,570,640,689,725,751,544,768,648,577,639,686,657,613,701,578,689,687,499,693,737,651,753,523,458,643,638,685,684,670,701,705,593,651,741,596,581,689,544,718,583,663,666,524,599,667,727,689,639,678,523,650,744,697,800,664,740,835,559,676,613,713,751,523,775,608,673,616,650,655,782,781,593,505,707,692,813,850,753,850,671,791,624,649,732,664,789,680,701,684,586,522,739,835,790,671,560,651,682,808,644,688,617,738,663,515,845,639,557,543,585,610,727,540,418,660,850,618,642,850,739,508,667,741,592,651,773,850,550,783,777,659,727,603,644,647,648,721,524,626,569,578,769,694,664,646,779,782,769,655,623,705,686,678,738,703,554,582,644,724,593,710,631,739,644,652,554,483,669,841,662,821,783,850,559,602,563,695,546,719,539,632,772,708,668,738,785,597,531,509,508,749,621,659,634,675,770,736,524,674,700,741,455,608,776,635,746,692,683,591,581,684,561,718,590,573,350,504,813,641,662,497,716,526,760,669,655,547,648,790,744,761,750,680,704,521,452,695,850,625,608,715,834,469,480,527,834,583,696,606,713,821,550,675,748,606,726,547,758,596,720,674,756,649,613,643,600,735,585,724,635,472,590,651,686,606,781,593,793,791,850,698,846,765,574,617,581,710,550,533,779,763,563,678,644,682,625,733,512,642,737,575,543,521,637,714,726,680,812,757,710,516,803,560,679,526,485,625,773,530,616,651,586,607,724,733,667,700,659,710,760,677,798,758,715,752,586,818,490,610,627,533,708,681,690,656,673,806,648,501,556,627,652,807,708,619,601,445,800,554,714,656,520,480,660,532,679,780,747,705,732,515,816,641,509,601,527,455,803,553,724,610,559,825,819,772,685,506,642,627,600,653,762,569,756,673,637,644,658,649,603,820,712,645,705,590,631,604,643,690,558,637,648,652,808,551,711,467,789,602,576,584,593,705,595,699,516,838,587,750,581,484,576,567,638,646,658,590,546,603,619,678,459,671,501,719,681,706,763,716,507,678,775,544,756,757,742,591,667,787,718,521,607,633,588,724,720,521,620,505,728,486,584,687,771,678,751,670,675,684,637,760,662,680,604,764,521,684,795,678,589,660,646,706,730,606,690,645,579,481,492,739,624,682,701,718,496,543,616,635,652,688,678,757,667,725,632,694,803,814,611,755,425,850,677,797,692,735,609,700,526,693,748,657,739,784,744,645,669,615,724,850,625,635,724,550,645,714,520,633,537,764,795,573,702,740,479,627,479,623,512,609,518,833,758,611,583,610,637,683,774,677,741,498,655,613,602,659,673,606,775,841,714,597,726,644,800,771,516,709,772,792],\"xaxis\":\"x\",\"yaxis\":\"y\",\"type\":\"histogram\"}],                        {\"template\":{\"data\":{\"histogram2dcontour\":[{\"type\":\"histogram2dcontour\",\"colorbar\":{\"outlinewidth\":0,\"ticks\":\"\"},\"colorscale\":[[0.0,\"#0d0887\"],[0.1111111111111111,\"#46039f\"],[0.2222222222222222,\"#7201a8\"],[0.3333333333333333,\"#9c179e\"],[0.4444444444444444,\"#bd3786\"],[0.5555555555555556,\"#d8576b\"],[0.6666666666666666,\"#ed7953\"],[0.7777777777777778,\"#fb9f3a\"],[0.8888888888888888,\"#fdca26\"],[1.0,\"#f0f921\"]]}],\"choropleth\":[{\"type\":\"choropleth\",\"colorbar\":{\"outlinewidth\":0,\"ticks\":\"\"}}],\"histogram2d\":[{\"type\":\"histogram2d\",\"colorbar\":{\"outlinewidth\":0,\"ticks\":\"\"},\"colorscale\":[[0.0,\"#0d0887\"],[0.1111111111111111,\"#46039f\"],[0.2222222222222222,\"#7201a8\"],[0.3333333333333333,\"#9c179e\"],[0.4444444444444444,\"#bd3786\"],[0.5555555555555556,\"#d8576b\"],[0.6666666666666666,\"#ed7953\"],[0.7777777777777778,\"#fb9f3a\"],[0.8888888888888888,\"#fdca26\"],[1.0,\"#f0f921\"]]}],\"heatmap\":[{\"type\":\"heatmap\",\"colorbar\":{\"outlinewidth\":0,\"ticks\":\"\"},\"colorscale\":[[0.0,\"#0d0887\"],[0.1111111111111111,\"#46039f\"],[0.2222222222222222,\"#7201a8\"],[0.3333333333333333,\"#9c179e\"],[0.4444444444444444,\"#bd3786\"],[0.5555555555555556,\"#d8576b\"],[0.6666666666666666,\"#ed7953\"],[0.7777777777777778,\"#fb9f3a\"],[0.8888888888888888,\"#fdca26\"],[1.0,\"#f0f921\"]]}],\"heatmapgl\":[{\"type\":\"heatmapgl\",\"colorbar\":{\"outlinewidth\":0,\"ticks\":\"\"},\"colorscale\":[[0.0,\"#0d0887\"],[0.1111111111111111,\"#46039f\"],[0.2222222222222222,\"#7201a8\"],[0.3333333333333333,\"#9c179e\"],[0.4444444444444444,\"#bd3786\"],[0.5555555555555556,\"#d8576b\"],[0.6666666666666666,\"#ed7953\"],[0.7777777777777778,\"#fb9f3a\"],[0.8888888888888888,\"#fdca26\"],[1.0,\"#f0f921\"]]}],\"contourcarpet\":[{\"type\":\"contourcarpet\",\"colorbar\":{\"outlinewidth\":0,\"ticks\":\"\"}}],\"contour\":[{\"type\":\"contour\",\"colorbar\":{\"outlinewidth\":0,\"ticks\":\"\"},\"colorscale\":[[0.0,\"#0d0887\"],[0.1111111111111111,\"#46039f\"],[0.2222222222222222,\"#7201a8\"],[0.3333333333333333,\"#9c179e\"],[0.4444444444444444,\"#bd3786\"],[0.5555555555555556,\"#d8576b\"],[0.6666666666666666,\"#ed7953\"],[0.7777777777777778,\"#fb9f3a\"],[0.8888888888888888,\"#fdca26\"],[1.0,\"#f0f921\"]]}],\"surface\":[{\"type\":\"surface\",\"colorbar\":{\"outlinewidth\":0,\"ticks\":\"\"},\"colorscale\":[[0.0,\"#0d0887\"],[0.1111111111111111,\"#46039f\"],[0.2222222222222222,\"#7201a8\"],[0.3333333333333333,\"#9c179e\"],[0.4444444444444444,\"#bd3786\"],[0.5555555555555556,\"#d8576b\"],[0.6666666666666666,\"#ed7953\"],[0.7777777777777778,\"#fb9f3a\"],[0.8888888888888888,\"#fdca26\"],[1.0,\"#f0f921\"]]}],\"mesh3d\":[{\"type\":\"mesh3d\",\"colorbar\":{\"outlinewidth\":0,\"ticks\":\"\"}}],\"scatter\":[{\"fillpattern\":{\"fillmode\":\"overlay\",\"size\":10,\"solidity\":0.2},\"type\":\"scatter\"}],\"parcoords\":[{\"type\":\"parcoords\",\"line\":{\"colorbar\":{\"outlinewidth\":0,\"ticks\":\"\"}}}],\"scatterpolargl\":[{\"type\":\"scatterpolargl\",\"marker\":{\"colorbar\":{\"outlinewidth\":0,\"ticks\":\"\"}}}],\"bar\":[{\"error_x\":{\"color\":\"#2a3f5f\"},\"error_y\":{\"color\":\"#2a3f5f\"},\"marker\":{\"line\":{\"color\":\"#E5ECF6\",\"width\":0.5},\"pattern\":{\"fillmode\":\"overlay\",\"size\":10,\"solidity\":0.2}},\"type\":\"bar\"}],\"scattergeo\":[{\"type\":\"scattergeo\",\"marker\":{\"colorbar\":{\"outlinewidth\":0,\"ticks\":\"\"}}}],\"scatterpolar\":[{\"type\":\"scatterpolar\",\"marker\":{\"colorbar\":{\"outlinewidth\":0,\"ticks\":\"\"}}}],\"histogram\":[{\"marker\":{\"pattern\":{\"fillmode\":\"overlay\",\"size\":10,\"solidity\":0.2}},\"type\":\"histogram\"}],\"scattergl\":[{\"type\":\"scattergl\",\"marker\":{\"colorbar\":{\"outlinewidth\":0,\"ticks\":\"\"}}}],\"scatter3d\":[{\"type\":\"scatter3d\",\"line\":{\"colorbar\":{\"outlinewidth\":0,\"ticks\":\"\"}},\"marker\":{\"colorbar\":{\"outlinewidth\":0,\"ticks\":\"\"}}}],\"scattermapbox\":[{\"type\":\"scattermapbox\",\"marker\":{\"colorbar\":{\"outlinewidth\":0,\"ticks\":\"\"}}}],\"scatterternary\":[{\"type\":\"scatterternary\",\"marker\":{\"colorbar\":{\"outlinewidth\":0,\"ticks\":\"\"}}}],\"scattercarpet\":[{\"type\":\"scattercarpet\",\"marker\":{\"colorbar\":{\"outlinewidth\":0,\"ticks\":\"\"}}}],\"carpet\":[{\"aaxis\":{\"endlinecolor\":\"#2a3f5f\",\"gridcolor\":\"white\",\"linecolor\":\"white\",\"minorgridcolor\":\"white\",\"startlinecolor\":\"#2a3f5f\"},\"baxis\":{\"endlinecolor\":\"#2a3f5f\",\"gridcolor\":\"white\",\"linecolor\":\"white\",\"minorgridcolor\":\"white\",\"startlinecolor\":\"#2a3f5f\"},\"type\":\"carpet\"}],\"table\":[{\"cells\":{\"fill\":{\"color\":\"#EBF0F8\"},\"line\":{\"color\":\"white\"}},\"header\":{\"fill\":{\"color\":\"#C8D4E3\"},\"line\":{\"color\":\"white\"}},\"type\":\"table\"}],\"barpolar\":[{\"marker\":{\"line\":{\"color\":\"#E5ECF6\",\"width\":0.5},\"pattern\":{\"fillmode\":\"overlay\",\"size\":10,\"solidity\":0.2}},\"type\":\"barpolar\"}],\"pie\":[{\"automargin\":true,\"type\":\"pie\"}]},\"layout\":{\"autotypenumbers\":\"strict\",\"colorway\":[\"#636efa\",\"#EF553B\",\"#00cc96\",\"#ab63fa\",\"#FFA15A\",\"#19d3f3\",\"#FF6692\",\"#B6E880\",\"#FF97FF\",\"#FECB52\"],\"font\":{\"color\":\"#2a3f5f\"},\"hovermode\":\"closest\",\"hoverlabel\":{\"align\":\"left\"},\"paper_bgcolor\":\"white\",\"plot_bgcolor\":\"#E5ECF6\",\"polar\":{\"bgcolor\":\"#E5ECF6\",\"angularaxis\":{\"gridcolor\":\"white\",\"linecolor\":\"white\",\"ticks\":\"\"},\"radialaxis\":{\"gridcolor\":\"white\",\"linecolor\":\"white\",\"ticks\":\"\"}},\"ternary\":{\"bgcolor\":\"#E5ECF6\",\"aaxis\":{\"gridcolor\":\"white\",\"linecolor\":\"white\",\"ticks\":\"\"},\"baxis\":{\"gridcolor\":\"white\",\"linecolor\":\"white\",\"ticks\":\"\"},\"caxis\":{\"gridcolor\":\"white\",\"linecolor\":\"white\",\"ticks\":\"\"}},\"coloraxis\":{\"colorbar\":{\"outlinewidth\":0,\"ticks\":\"\"}},\"colorscale\":{\"sequential\":[[0.0,\"#0d0887\"],[0.1111111111111111,\"#46039f\"],[0.2222222222222222,\"#7201a8\"],[0.3333333333333333,\"#9c179e\"],[0.4444444444444444,\"#bd3786\"],[0.5555555555555556,\"#d8576b\"],[0.6666666666666666,\"#ed7953\"],[0.7777777777777778,\"#fb9f3a\"],[0.8888888888888888,\"#fdca26\"],[1.0,\"#f0f921\"]],\"sequentialminus\":[[0.0,\"#0d0887\"],[0.1111111111111111,\"#46039f\"],[0.2222222222222222,\"#7201a8\"],[0.3333333333333333,\"#9c179e\"],[0.4444444444444444,\"#bd3786\"],[0.5555555555555556,\"#d8576b\"],[0.6666666666666666,\"#ed7953\"],[0.7777777777777778,\"#fb9f3a\"],[0.8888888888888888,\"#fdca26\"],[1.0,\"#f0f921\"]],\"diverging\":[[0,\"#8e0152\"],[0.1,\"#c51b7d\"],[0.2,\"#de77ae\"],[0.3,\"#f1b6da\"],[0.4,\"#fde0ef\"],[0.5,\"#f7f7f7\"],[0.6,\"#e6f5d0\"],[0.7,\"#b8e186\"],[0.8,\"#7fbc41\"],[0.9,\"#4d9221\"],[1,\"#276419\"]]},\"xaxis\":{\"gridcolor\":\"white\",\"linecolor\":\"white\",\"ticks\":\"\",\"title\":{\"standoff\":15},\"zerolinecolor\":\"white\",\"automargin\":true,\"zerolinewidth\":2},\"yaxis\":{\"gridcolor\":\"white\",\"linecolor\":\"white\",\"ticks\":\"\",\"title\":{\"standoff\":15},\"zerolinecolor\":\"white\",\"automargin\":true,\"zerolinewidth\":2},\"scene\":{\"xaxis\":{\"backgroundcolor\":\"#E5ECF6\",\"gridcolor\":\"white\",\"linecolor\":\"white\",\"showbackground\":true,\"ticks\":\"\",\"zerolinecolor\":\"white\",\"gridwidth\":2},\"yaxis\":{\"backgroundcolor\":\"#E5ECF6\",\"gridcolor\":\"white\",\"linecolor\":\"white\",\"showbackground\":true,\"ticks\":\"\",\"zerolinecolor\":\"white\",\"gridwidth\":2},\"zaxis\":{\"backgroundcolor\":\"#E5ECF6\",\"gridcolor\":\"white\",\"linecolor\":\"white\",\"showbackground\":true,\"ticks\":\"\",\"zerolinecolor\":\"white\",\"gridwidth\":2}},\"shapedefaults\":{\"line\":{\"color\":\"#2a3f5f\"}},\"annotationdefaults\":{\"arrowcolor\":\"#2a3f5f\",\"arrowhead\":0,\"arrowwidth\":1},\"geo\":{\"bgcolor\":\"white\",\"landcolor\":\"#E5ECF6\",\"subunitcolor\":\"white\",\"showland\":true,\"showlakes\":true,\"lakecolor\":\"white\"},\"title\":{\"x\":0.05},\"mapbox\":{\"style\":\"light\"}}},\"xaxis\":{\"anchor\":\"y\",\"domain\":[0.0,1.0],\"title\":{\"text\":\"CreditScore\"}},\"yaxis\":{\"anchor\":\"x\",\"domain\":[0.0,1.0],\"title\":{\"text\":\"count\"}},\"legend\":{\"tracegroupgap\":0},\"title\":{\"text\":\"Histogram of Credit Score\"},\"barmode\":\"relative\"},                        {\"responsive\": true}                    ).then(function(){\n",
       "                            \n",
       "var gd = document.getElementById('0c36beb9-e90d-4f27-a1bb-c7df677e4a7d');\n",
       "var x = new MutationObserver(function (mutations, observer) {{\n",
       "        var display = window.getComputedStyle(gd).display;\n",
       "        if (!display || display === 'none') {{\n",
       "            console.log([gd, 'removed!']);\n",
       "            Plotly.purge(gd);\n",
       "            observer.disconnect();\n",
       "        }}\n",
       "}});\n",
       "\n",
       "// Listen for the removal of the full notebook cells\n",
       "var notebookContainer = gd.closest('#notebook-container');\n",
       "if (notebookContainer) {{\n",
       "    x.observe(notebookContainer, {childList: true});\n",
       "}}\n",
       "\n",
       "// Listen for the clearing of the current output cell\n",
       "var outputEl = gd.closest('.output');\n",
       "if (outputEl) {{\n",
       "    x.observe(outputEl, {childList: true});\n",
       "}}\n",
       "\n",
       "                        })                };                });            </script>        </div>"
      ]
     },
     "metadata": {},
     "output_type": "display_data"
    }
   ],
   "source": [
    "fig = px.histogram(df, x=\"CreditScore\", title='Histogram of Credit Score',color_discrete_sequence=['indianred'])\n",
    "fig.show()"
   ]
  },
  {
   "cell_type": "markdown",
   "id": "8d3b5ffd",
   "metadata": {
    "papermill": {
     "duration": 0.00882,
     "end_time": "2023-02-03T20:10:50.231732",
     "exception": false,
     "start_time": "2023-02-03T20:10:50.222912",
     "status": "completed"
    },
    "tags": []
   },
   "source": [
    "According to histogram, iy can be said that data of credit score is normal distribution. However, 233 number of people have credit score which is between 850 and 854. Therefore, It would be Better that not stick to just one chart. "
   ]
  },
  {
   "cell_type": "code",
   "execution_count": 14,
   "id": "bcb5e80c",
   "metadata": {
    "execution": {
     "iopub.execute_input": "2023-02-03T20:10:50.251215Z",
     "iopub.status.busy": "2023-02-03T20:10:50.250818Z",
     "iopub.status.idle": "2023-02-03T20:10:50.474147Z",
     "shell.execute_reply": "2023-02-03T20:10:50.472866Z"
    },
    "papermill": {
     "duration": 0.23651,
     "end_time": "2023-02-03T20:10:50.477093",
     "exception": false,
     "start_time": "2023-02-03T20:10:50.240583",
     "status": "completed"
    },
    "tags": []
   },
   "outputs": [
    {
     "data": {
      "text/html": [
       "<div>                            <div id=\"1fa51da4-87d0-47a0-8181-ea7ea5982089\" class=\"plotly-graph-div\" style=\"height:525px; width:100%;\"></div>            <script type=\"text/javascript\">                require([\"plotly\"], function(Plotly) {                    window.PLOTLYENV=window.PLOTLYENV || {};                                    if (document.getElementById(\"1fa51da4-87d0-47a0-8181-ea7ea5982089\")) {                    Plotly.newPlot(                        \"1fa51da4-87d0-47a0-8181-ea7ea5982089\",                        [{\"alignmentgroup\":\"True\",\"hovertemplate\":\"CreditScore=%{y}<extra></extra>\",\"legendgroup\":\"\",\"marker\":{\"color\":\"#636efa\"},\"name\":\"\",\"notched\":false,\"offsetgroup\":\"\",\"orientation\":\"v\",\"showlegend\":false,\"x0\":\" \",\"xaxis\":\"x\",\"y\":[619,608,502,699,850,645,822,376,501,684,528,497,476,549,635,616,653,549,587,726,732,636,510,669,846,577,756,571,574,411,591,533,553,520,722,475,490,804,850,582,472,465,556,834,660,776,829,637,550,776,698,585,788,655,601,619,656,725,511,614,742,687,555,684,603,751,581,735,661,675,738,813,657,604,519,735,664,678,757,416,665,777,543,506,493,652,750,729,646,635,647,808,524,769,730,515,773,814,710,413,665,623,738,528,670,622,582,785,605,479,685,538,562,675,721,628,668,506,524,699,828,674,656,684,625,432,549,625,828,770,758,795,687,686,789,589,461,637,584,579,756,663,682,793,691,485,635,650,735,416,754,535,716,539,614,706,758,586,646,631,717,684,800,721,683,660,704,615,667,682,484,628,480,578,512,484,510,606,597,754,850,510,778,636,804,514,730,525,616,687,715,512,479,601,580,807,616,721,501,521,850,759,516,711,512,550,608,618,643,671,689,603,620,676,572,668,695,730,807,592,726,514,567,850,671,670,694,547,751,594,673,610,512,767,585,763,712,539,668,703,662,725,703,659,523,635,772,545,634,739,771,587,681,544,696,766,727,671,693,850,732,726,557,682,738,531,498,651,549,791,650,733,811,707,712,706,756,777,646,714,782,775,479,807,799,675,602,475,744,588,703,747,583,750,681,773,714,687,511,627,694,616,687,712,553,667,731,629,614,438,652,729,642,806,744,474,559,706,628,429,525,680,749,763,734,716,594,644,671,664,656,667,663,584,626,485,659,649,805,716,642,659,545,543,718,840,630,643,654,582,659,762,568,670,613,539,850,522,737,520,706,643,648,443,640,628,540,460,636,593,801,640,611,802,717,769,745,572,629,687,483,690,492,709,705,560,611,730,709,544,712,752,648,556,594,645,557,547,701,616,605,593,751,443,685,718,538,611,668,537,709,850,745,693,795,626,487,556,643,605,756,586,535,678,596,648,492,702,486,568,619,724,548,545,683,762,627,516,800,464,626,790,534,745,553,748,722,501,675,778,494,850,592,590,758,506,733,711,514,637,468,539,509,662,818,608,850,816,536,753,631,703,774,785,571,621,605,611,569,658,788,525,798,486,615,730,641,542,692,714,591,710,639,531,673,765,622,806,757,570,555,692,774,638,543,584,691,684,733,599,524,632,735,734,605,793,468,779,698,707,850,850,527,696,661,776,701,610,572,673,519,702,729,543,550,608,639,686,564,745,833,622,597,721,504,842,587,479,508,749,721,674,685,417,574,590,587,598,741,850,584,650,607,509,689,543,438,687,737,761,601,651,745,648,848,546,439,755,593,701,701,607,586,547,647,760,621,725,526,519,713,700,666,630,779,611,685,646,683,484,601,762,687,566,702,601,699,584,699,698,495,650,605,667,688,727,754,612,546,673,593,656,535,678,477,850,427,752,649,799,589,583,839,540,850,696,660,682,744,785,752,706,583,660,819,673,752,578,438,652,629,720,668,459,729,498,549,601,544,751,632,694,678,695,661,661,559,503,695,640,624,667,642,640,529,563,593,739,788,684,482,591,651,749,583,661,715,769,625,641,716,767,745,589,796,664,445,543,746,742,750,669,594,574,659,750,626,620,580,686,540,634,632,501,650,786,554,701,474,621,672,459,669,776,694,787,580,711,673,499,591,769,657,738,545,497,816,525,725,692,618,546,635,611,650,606,844,450,727,460,649,758,490,815,838,803,664,736,633,664,600,693,663,742,710,710,700,720,684,531,742,717,589,767,636,648,622,692,754,679,639,774,517,571,747,792,688,714,562,704,698,611,850,743,654,761,702,488,683,601,605,671,614,511,850,790,793,628,598,657,618,681,516,421,700,745,696,580,497,720,659,841,642,732,600,464,680,758,630,577,684,708,732,634,633,559,694,686,553,507,732,818,660,773,640,505,714,468,611,705,646,667,511,653,675,523,567,741,456,598,667,548,725,717,594,678,545,636,603,435,535,629,722,561,645,501,502,652,574,518,749,679,565,643,515,521,739,585,733,542,788,435,577,703,728,728,718,621,523,657,727,643,645,568,599,672,685,516,685,806,604,648,545,756,569,596,475,646,784,552,729,609,555,572,785,714,738,639,520,764,661,564,708,512,592,619,775,850,577,724,710,696,376,675,745,697,599,715,659,684,635,789,571,694,665,706,807,771,531,629,850,685,642,529,683,663,563,637,544,649,638,723,635,750,730,750,586,520,652,550,594,749,668,614,773,551,566,569,659,722,655,615,752,661,838,610,811,587,811,759,648,788,725,646,601,521,561,564,444,650,724,719,548,635,496,676,541,778,850,633,625,485,547,642,718,582,628,737,828,609,730,631,830,645,663,678,521,625,523,714,580,722,630,579,670,588,807,726,812,631,682,625,607,600,602,545,675,581,640,850,490,710,613,812,723,512,731,650,594,844,686,695,624,503,535,743,702,658,677,664,766,461,688,678,796,803,712,498,850,628,539,732,715,651,813,692,756,543,790,494,850,703,432,512,589,514,678,420,679,595,713,833,690,731,608,479,519,731,617,756,848,809,698,779,606,612,663,549,675,669,571,500,628,559,769,733,750,583,468,727,618,617,793,630,765,546,614,593,613,655,700,826,652,755,538,729,615,700,434,729,513,755,615,747,850,712,622,548,607,653,699,693,647,478,705,719,726,626,552,807,621,651,673,652,584,756,670,765,528,701,797,639,785,363,764,676,718,590,584,645,772,399,529,463,630,780,584,752,697,850,711,452,610,694,579,745,572,505,706,693,725,791,536,699,500,707,531,557,659,575,775,772,587,667,771,523,662,717,746,569,579,519,696,693,587,626,666,512,689,803,548,588,693,499,628,624,733,628,633,559,704,744,665,638,837,534,548,837,658,554,724,723,585,474,562,719,635,743,681,521,741,790,622,669,583,520,579,698,548,672,653,734,794,641,824,534,653,498,683,618,538,643,428,593,718,811,823,645,710,591,748,850,542,809,675,607,850,789,598,756,687,724,700,635,687,613,781,703,593,743,640,849,778,539,489,568,618,710,625,682,727,794,652,670,460,568,643,521,615,575,717,648,535,626,611,734,709,591,664,431,647,578,555,775,850,625,645,608,689,652,769,611,489,528,632,429,457,768,715,668,625,846,661,571,582,716,758,725,630,627,653,775,794,831,561,705,636,487,693,517,684,620,757,739,662,359,572,721,707,444,523,685,673,503,485,799,585,607,521,535,724,520,696,657,603,726,591,792,550,601,820,667,573,755,552,598,576,670,504,778,558,627,683,556,583,705,637,697,555,594,632,551,687,672,521,686,639,850,465,817,578,611,616,517,637,806,633,624,691,819,568,806,726,552,755,634,756,776,649,595,646,592,574,850,850,475,642,710,596,609,797,504,735,680,449,685,569,631,595,461,630,661,796,710,741,606,747,549,576,528,535,575,656,440,539,850,646,744,710,544,723,507,787,598,796,569,711,661,415,578,611,600,661,850,573,764,838,821,607,558,530,654,530,656,520,602,701,653,668,652,639,730,780,592,628,658,850,515,571,760,720,632,694,559,773,581,524,713,676,651,717,594,716,668,678,545,613,687,715,618,721,445,690,709,671,538,735,592,747,675,632,621,521,591,706,677,769,771,601,670,517,834,571,576,718,636,566,711,574,619,588,760,665,739,641,685,594,557,697,656,712,689,697,589,525,680,617,680,662,736,657,350,617,562,705,516,573,538,699,504,583,712,626,631,663,506,570,703,698,731,625,634,616,500,446,669,581,704,748,680,655,690,695,700,773,749,611,606,554,567,559,594,513,652,680,784,812,784,570,712,705,681,620,711,613,613,682,850,601,595,675,591,602,554,541,506,814,683,485,696,608,792,686,790,654,452,719,707,699,850,828,850,712,634,730,685,809,707,648,760,805,585,595,630,627,631,776,676,758,637,850,601,735,614,672,642,633,769,796,715,695,747,584,476,850,529,584,586,674,552,601,541,744,595,724,533,618,523,642,584,521,662,758,717,611,766,636,814,760,607,725,600,656,640,439,549,622,715,657,703,802,793,554,533,658,713,711,669,439,763,697,702,686,629,823,683,555,647,714,850,713,452,683,577,552,769,691,818,739,639,651,779,850,829,579,510,531,628,633,714,604,630,850,788,798,770,569,425,547,725,506,632,620,663,700,696,767,561,350,706,464,501,745,587,667,737,485,590,518,581,785,799,698,730,740,785,527,544,705,684,639,565,481,731,607,760,559,715,656,652,624,634,850,659,529,572,640,770,648,579,589,530,831,790,656,563,667,613,429,665,731,584,634,488,535,776,850,673,850,627,570,796,773,752,625,535,786,620,605,670,617,595,687,757,746,503,543,428,768,618,591,658,625,717,667,804,693,729,484,632,536,573,655,666,726,523,728,701,518,739,531,452,684,728,783,734,648,688,680,516,680,604,624,623,624,565,565,710,645,707,655,705,358,578,800,612,681,559,488,717,666,582,733,693,694,622,598,717,494,644,554,476,667,748,531,719,845,738,563,695,841,626,613,824,705,584,534,672,603,633,842,661,601,632,684,785,687,705,639,729,556,570,841,705,553,779,696,728,691,706,627,716,501,601,545,634,451,655,458,520,624,765,667,665,709,583,782,668,621,579,547,840,667,723,487,668,520,549,567,720,492,712,689,850,747,469,539,743,707,581,737,445,703,588,765,626,545,744,658,629,719,686,743,626,661,710,654,569,640,562,721,456,811,534,423,594,725,716,595,679,667,661,655,555,531,611,600,531,601,548,759,678,755,594,768,492,637,646,593,596,722,642,472,738,732,404,701,683,460,690,618,671,765,651,704,544,790,710,743,702,704,614,609,688,713,736,727,850,718,643,653,674,690,819,634,633,850,665,630,836,668,753,745,693,606,660,608,744,731,683,727,561,700,605,767,511,667,787,705,773,554,526,661,698,646,757,699,667,774,745,649,634,665,713,652,739,556,699,708,480,700,525,845,613,850,798,773,614,473,762,701,600,850,613,509,509,609,456,728,663,673,717,741,498,850,493,686,666,733,631,714,767,711,722,631,701,790,633,644,757,696,746,649,565,720,648,632,622,835,493,785,681,621,756,515,625,717,595,539,762,706,677,733,684,679,478,696,686,466,686,576,763,572,757,582,623,617,425,659,605,538,665,491,726,580,550,542,732,473,745,732,848,572,702,664,630,618,556,619,644,658,598,677,689,591,699,749,709,607,650,651,676,723,714,759,582,697,610,488,599,781,645,545,597,561,662,649,630,672,636,593,545,567,583,681,762,648,644,706,850,484,508,439,484,803,724,640,701,537,651,523,717,593,706,714,794,518,589,824,719,617,651,637,554,731,569,625,592,669,663,518,686,709,571,707,701,672,620,557,648,479,730,737,616,639,815,786,549,622,624,841,614,676,697,732,623,541,773,762,655,602,850,649,850,543,672,600,671,706,541,711,630,531,641,631,685,702,708,653,654,596,549,754,815,556,706,850,732,614,580,593,653,746,662,573,684,793,798,524,816,742,540,537,759,774,608,704,581,628,566,701,735,680,560,663,665,758,621,764,537,589,555,734,783,678,661,607,537,513,576,660,637,672,629,583,763,516,617,700,727,689,626,686,351,739,627,451,512,774,652,638,475,567,750,850,753,683,710,645,714,696,612,520,782,666,466,567,613,718,614,711,691,527,476,619,607,695,653,677,655,625,679,734,666,592,564,814,592,758,612,498,638,558,756,782,505,671,801,604,716,624,607,827,606,717,651,691,573,723,584,550,611,549,850,668,686,660,682,524,645,850,537,599,727,756,755,634,837,727,567,650,655,763,843,667,705,660,553,612,641,513,680,711,689,665,551,645,616,582,365,697,704,656,712,748,724,691,563,741,778,848,634,505,692,537,633,833,592,587,550,680,622,594,643,540,635,657,814,600,682,682,566,550,630,546,486,762,692,498,850,603,551,627,515,605,567,568,571,634,768,554,629,638,576,661,592,702,647,593,712,625,538,637,632,736,755,425,461,745,616,587,850,601,730,532,850,779,562,670,729,767,742,669,542,586,612,740,584,524,614,598,799,724,601,804,745,667,518,819,520,625,673,656,850,574,679,530,508,558,414,648,721,751,662,628,597,698,723,586,633,564,649,622,459,718,655,696,637,630,592,634,608,565,763,665,649,695,775,788,569,726,564,544,614,453,471,829,754,749,667,670,670,623,571,641,551,741,472,650,625,650,535,649,689,694,655,620,577,401,599,481,704,698,480,682,700,492,444,624,709,557,646,719,706,660,667,705,598,669,580,676,714,597,559,564,850,689,758,604,733,778,732,646,597,821,640,511,805,540,705,540,532,535,627,646,515,697,652,579,760,769,498,774,705,648,688,592,705,654,624,594,695,597,758,737,694,683,538,669,730,622,714,569,668,628,600,693,704,527,553,575,626,582,683,850,653,679,549,850,558,528,801,513,666,606,599,544,529,850,497,764,603,609,487,748,710,432,534,607,551,674,525,645,755,708,715,727,559,545,524,707,671,439,667,831,545,604,657,487,750,694,711,551,559,620,660,449,703,795,594,586,613,601,657,531,621,782,528,696,586,626,498,691,568,715,680,802,539,494,594,596,649,699,787,604,489,651,698,578,538,696,507,685,705,499,717,510,632,668,744,663,638,688,588,631,687,599,718,730,533,711,555,850,678,576,835,592,774,620,519,734,763,733,650,538,577,792,686,589,530,778,616,550,655,721,499,511,579,696,681,815,681,641,591,565,487,729,505,580,642,850,616,526,523,663,840,570,676,689,703,491,584,810,745,625,535,729,655,751,525,532,696,786,580,596,683,747,602,779,551,666,526,849,471,628,674,797,590,588,577,571,680,648,618,648,759,585,774,697,605,676,678,495,787,770,817,659,693,744,829,716,671,835,636,649,621,658,784,783,615,791,762,607,601,540,812,685,680,680,631,569,584,582,609,506,503,503,806,653,666,674,798,740,531,614,556,678,587,527,757,468,693,483,466,770,734,716,439,538,743,734,656,666,627,480,792,613,476,539,696,810,763,640,655,526,678,554,597,560,850,546,623,698,620,619,561,753,721,451,680,590,634,676,642,760,736,656,776,832,631,795,648,615,682,694,694,607,664,756,645,653,710,697,619,648,482,548,752,648,643,573,686,644,702,652,641,692,574,643,834,591,470,608,649,665,651,555,637,675,677,850,815,665,485,577,586,722,528,542,552,678,575,669,636,667,652,637,516,801,692,585,590,554,659,690,697,610,599,544,548,635,722,564,719,547,850,515,667,607,525,606,686,611,827,572,726,579,598,663,505,576,555,524,776,645,850,603,691,583,584,679,646,559,595,527,684,673,802,675,762,580,621,411,815,631,514,638,791,516,734,611,850,641,585,552,507,735,707,698,841,688,614,511,447,738,422,537,707,690,664,850,584,728,560,629,658,794,790,640,652,583,775,584,635,814,735,678,693,640,773,736,693,496,751,528,754,568,592,558,825,677,653,593,632,601,786,654,572,813,523,506,513,664,684,608,527,666,779,629,430,712,682,634,487,808,527,637,802,529,850,738,817,735,619,671,581,690,579,688,599,729,718,712,474,565,658,714,725,825,665,670,474,591,508,695,660,687,658,705,739,844,602,759,747,673,671,640,581,630,703,698,742,652,644,735,777,644,665,529,803,604,738,655,698,775,735,766,537,599,420,674,570,623,710,466,759,581,820,759,628,676,591,690,624,573,694,632,632,832,598,430,711,582,605,657,578,532,612,792,674,680,593,679,493,688,769,581,465,641,731,625,468,790,587,692,676,571,700,445,746,722,596,850,597,436,660,649,646,560,710,513,607,757,619,612,842,713,657,770,773,470,781,428,600,697,692,791,538,820,679,649,632,594,682,720,769,746,623,537,468,588,729,543,499,784,604,614,671,587,593,453,570,655,632,681,591,779,456,686,617,850,646,735,543,490,640,445,761,426,777,534,777,806,790,643,584,638,771,600,661,554,627,659,835,763,625,799,849,692,623,453,408,778,695,677,662,534,602,554,667,672,838,692,675,731,468,542,662,770,675,647,604,833,741,658,528,590,675,765,650,817,699,495,491,847,676,746,470,714,695,674,664,697,670,541,640,647,757,704,778,639,637,686,577,506,757,826,721,489,446,677,769,677,555,652,722,643,796,720,613,506,608,667,750,610,588,479,682,677,850,580,746,635,664,558,415,798,792,489,730,773,711,592,695,640,470,789,604,493,671,656,739,560,827,681,740,663,845,555,680,638,640,778,679,593,788,770,729,545,597,537,732,542,688,542,754,750,731,699,534,494,497,632,724,751,733,701,525,666,653,850,646,750,764,658,727,687,631,797,650,850,676,620,576,482,695,706,668,679,703,670,590,613,742,608,571,595,745,589,749,678,603,504,739,604,612,629,652,565,707,645,762,639,709,823,817,665,646,568,850,473,731,619,715,772,686,749,781,675,730,683,554,722,689,796,447,498,663,498,627,649,738,587,655,647,776,688,605,596,427,629,496,717,777,535,744,755,593,514,721,835,682,590,653,837,841,584,769,599,698,477,477,745,749,850,528,750,543,579,624,595,596,431,647,640,752,710,638,660,609,596,705,444,727,496,554,537,839,700,458,850,699,615,850,604,668,594,470,701,664,477,756,625,703,646,650,664,682,725,553,576,608,850,627,667,548,774,794,497,587,850,722,555,609,734,718,645,598,628,629,739,653,711,783,681,712,554,611,560,646,680,631,746,654,687,708,679,636,695,677,720,780,653,674,620,623,547,530,746,512,630,570,605,530,813,704,565,645,526,778,677,588,488,519,709,642,710,653,743,418,670,723,549,543,595,673,741,508,662,752,809,575,591,643,698,496,597,603,655,431,620,782,581,553,658,686,539,685,850,763,634,567,539,764,653,566,714,580,548,646,622,706,680,698,581,728,707,761,483,736,716,654,649,649,612,657,511,682,748,554,794,807,594,652,729,625,597,657,633,663,535,702,712,607,476,748,815,602,649,551,509,685,536,711,761,535,566,620,837,685,673,638,614,626,834,691,706,633,644,666,708,496,730,696,809,701,604,665,639,696,520,545,634,750,530,589,654,648,835,446,514,694,554,720,641,813,480,811,715,620,721,772,680,535,655,660,762,662,463,501,603,688,430,632,601,769,551,841,469,479,701,593,738,635,658,687,650,720,602,618,803,793,616,550,602,452,655,510,557,676,640,529,559,689,626,697,823,565,631,646,676,850,810,581,718,713,672,781,656,583,808,721,778,850,693,520,759,637,755,662,503,599,583,764,513,730,820,597,637,696,635,673,662,683,850,815,671,601,709,702,558,691,700,667,624,580,571,561,529,670,666,628,577,652,678,692,675,712,639,618,554,533,540,704,678,712,651,789,775,564,841,850,637,500,655,666,658,749,654,623,761,627,757,695,726,587,605,850,850,751,627,736,652,627,636,775,850,850,516,513,673,564,636,712,568,741,754,709,510,716,607,656,550,486,598,675,755,656,644,598,850,679,632,550,572,626,625,515,612,628,529,668,526,791,573,565,604,656,447,682,437,792,627,767,686,789,794,587,589,543,589,701,850,726,767,648,651,633,740,592,670,628,745,705,559,595,492,498,655,636,634,793,526,768,540,732,617,637,573,531,489,601,452,728,590,490,596,635,782,790,587,794,515,746,667,709,536,711,753,748,623,465,640,562,502,536,670,775,759,604,766,554,487,725,732,623,781,714,577,731,650,779,706,733,579,476,775,538,602,615,700,615,544,573,555,692,476,770,641,705,784,727,576,646,638,632,850,492,673,609,701,651,508,616,489,567,714,678,581,748,781,691,507,724,705,708,580,850,714,559,577,647,554,549,528,720,743,615,635,686,840,695,564,805,558,657,641,755,483,545,678,781,571,634,523,501,662,573,648,662,725,563,628,546,688,850,614,719,757,669,438,492,622,645,728,651,783,732,553,660,670,718,787,775,479,660,721,659,743,670,766,845,710,602,604,564,637,527,687,756,503,657,666,615,712,764,471,608,682,587,714,630,648,785,601,717,707,771,602,626,588,616,621,674,633,698,508,736,672,613,712,624,676,683,489,739,701,666,565,666,633,578,812,809,615,684,544,713,633,672,661,749,635,850,641,633,413,538,437,612,516,826,660,646,767,640,778,679,549,598,655,494,653,539,645,751,528,696,716,602,647,850,590,825,850,789,701,713,570,536,771,512,698,656,761,709,597,592,599,572,611,634,666,696,669,726,497,750,850,617,652,560,629,660,676,581,798,705,714,664,697,609,548,850,656,727,642,710,710,718,586,617,630,791,673,477,662,850,635,537,579,651,610,581,592,688,681,658,792,528,624,562,678,705,650,593,652,554,584,516,789,598,669,645,659,833,697,580,691,534,478,572,501,624,595,603,602,500,422,615,635,711,834,633,650,743,567,706,638,641,574,642,722,623,681,530,797,653,850,581,589,555,748,745,730,565,778,812,526,708,680,567,564,709,629,510,506,605,650,850,489,659,753,477,610,619,619,758,516,789,687,485,446,597,712,522,805,781,689,670,670,524,734,489,578,622,843,687,700,410,537,780,652,620,697,786,850,749,445,443,637,616,756,644,850,703,684,706,580,777,676,708,809,588,623,537,536,769,690,771,497,622,602,543,520,669,631,537,732,844,838,652,660,692,588,533,850,511,530,554,585,754,474,837,567,800,646,627,505,566,619,757,648,621,543,658,633,648,501,683,619,705,638,710,590,725,638,791,702,607,535,651,506,511,757,768,757,663,537,570,850,661,659,454,708,720,785,743,493,557,850,799,756,752,696,630,659,685,599,559,615,580,487,646,811,526,767,548,737,613,711,850,752,710,664,510,577,529,757,691,621,709,756,788,705,483,719,793,593,551,690,823,512,802,450,651,697,611,643,822,632,575,672,517,621,775,600,640,752,613,484,511,745,786,727,622,794,636,741,687,660,660,617,762,752,561,609,803,556,531,411,587,683,654,670,655,752,534,635,491,516,530,687,684,706,490,796,849,779,794,748,663,645,464,737,590,522,648,754,669,648,763,790,581,703,571,657,737,793,783,751,579,655,614,678,562,711,620,437,691,552,765,707,764,585,784,605,699,544,803,735,673,652,694,741,590,809,523,540,596,597,407,748,562,734,710,539,542,717,682,515,526,702,651,792,817,674,641,513,561,627,682,683,420,670,505,580,577,773,616,763,640,592,528,630,529,546,753,772,567,628,658,679,629,731,775,660,752,655,543,811,689,531,515,466,782,611,621,604,655,689,681,643,617,638,743,828,776,540,616,628,667,615,543,553,554,684,452,606,629,659,493,794,554,796,807,500,722,559,584,834,754,590,740,502,733,755,554,534,656,575,480,575,672,758,682,501,746,556,823,491,638,734,555,745,728,626,681,478,709,562,769,684,536,631,657,699,606,612,660,829,567,850,712,562,755,793,471,707,784,703,704,662,636,640,739,767,753,714,707,577,633,849,614,558,832,567,587,712,655,641,676,472,644,598,792,700,616,743,427,731,610,724,653,774,547,719,740,543,688,474,505,688,650,610,705,669,650,550,595,572,622,662,783,714,671,600,847,650,710,682,642,536,754,678,533,741,757,721,700,663,677,655,832,721,542,654,821,508,588,691,664,439,479,850,518,717,698,850,700,626,774,719,646,485,784,850,669,731,721,515,774,585,695,729,713,555,699,587,762,510,842,608,850,642,850,455,726,544,651,814,537,553,800,791,699,756,591,850,760,569,661,670,694,728,764,639,683,663,826,735,682,663,562,696,850,719,804,604,782,512,569,597,753,430,756,493,777,779,702,551,749,742,752,740,576,637,724,685,625,571,584,550,662,803,615,481,701,751,675,733,822,559,731,678,645,701,554,723,766,597,574,655,780,672,717,521,633,669,740,462,619,665,655,463,799,713,807,728,582,704,714,628,809,547,560,811,584,691,680,588,721,850,529,622,683,575,577,510,652,569,687,822,656,745,386,684,635,582,613,795,659,745,604,509,706,619,572,695,543,640,672,701,634,531,699,605,534,449,684,622,714,712,783,743,683,654,700,744,645,525,732,721,622,654,529,720,850,667,620,616,637,710,717,786,651,530,815,715,496,680,646,807,727,787,806,603,649,547,684,477,558,695,592,789,597,839,405,658,684,633,589,750,771,812,539,670,673,538,575,682,712,598,776,606,686,850,642,606,627,850,850,724,579,727,813,642,669,574,774,735,639,738,835,637,589,591,723,831,733,731,654,828,590,657,531,516,561,682,575,623,642,779,671,495,850,630,588,562,740,695,589,607,794,580,644,636,599,507,682,714,696,599,577,733,647,831,543,679,713,690,751,613,701,698,451,665,726,608,549,803,663,558,714,704,805,659,738,635,530,661,531,694,731,556,647,850,573,591,723,617,704,457,787,651,612,828,724,648,569,765,577,603,568,748,573,771,763,410,728,655,580,712,680,383,721,620,774,563,850,681,631,614,704,786,534,590,583,656,597,588,667,627,708,641,527,592,465,628,678,570,815,817,717,641,624,579,698,645,691,638,705,720,553,658,648,636,527,717,614,737,587,682,710,507,609,786,688,710,779,733,583,627,666,620,614,606,700,677,850,564,771,620,610,609,683,633,676,693,709,569,684,565,681,503,656,566,592,687,686,616,494,534,695,579,432,816,730,593,715,775,539,576,617,688,608,597,670,616,579,786,704,796,598,602,619,492,641,518,623,733,625,759,604,512,520,805,626,656,785,553,569,670,586,617,508,624,654,681,578,621,632,644,821,754,568,584,549,729,523,477,675,782,616,738,717,526,660,525,629,616,521,691,687,677,695,663,496,747,546,706,472,703,850,667,559,636,672,667,648,497,743,619,639,540,766,749,655,630,778,757,529,620,615,735,705,644,505,471,722,577,744,573,653,660,787,617,567,682,684,447,625,585,516,732,628,682,746,655,644,778,617,660,537,554,806,611,665,648,692,507,696,681,687,641,507,688,535,701,488,539,674,538,829,768,585,581,682,653,712,620,709,832,635,749,629,836,542,645,844,747,645,752,760,714,717,645,681,681,679,528,710,733,724,726,520,556,579,674,570,631,623,665,523,706,619,593,608,526,684,604,636,669,624,631,753,588,729,602,689,486,809,562,763,669,709,554,699,732,625,599,584,499,526,625,537,696,679,684,850,495,537,850,513,618,802,547,613,592,546,721,671,624,751,636,607,509,653,709,559,684,635,709,656,793,609,618,850,669,594,616,676,608,710,695,530,509,517,758,665,631,576,544,596,481,498,512,594,570,721,453,562,682,748,729,663,735,627,713,562,632,479,658,598,597,512,704,474,604,683,537,794,732,495,552,602,607,675,443,727,482,686,588,605,583,738,744,781,699,639,583,587,694,570,692,511,788,526,749,691,481,752,658,679,754,679,633,674,600,645,698,508,555,751,738,706,595,577,578,699,826,656,556,569,765,544,588,740,850,766,849,612,517,645,696,716,590,656,473,742,834,721,590,516,850,748,798,612,540,719,598,796,579,850,599,724,508,773,526,542,470,805,548,672,773,614,537,704,586,677,558,634,655,619,662,705,527,630,850,668,573,680,758,597,580,622,638,640,644,753,629,775,701,708,521,636,529,757,767,525,759,520,738,548,535,615,850,487,731,726,609,714,694,786,698,601,769,850,646,659,487,740,686,612,655,617,674,711,624,597,682,775,727,629,684,549,593,536,707,592,703,723,452,552,633,479,768,742,668,707,754,544,718,762,772,691,502,563,676,576,629,625,628,471,811,504,687,660,548,609,659,526,725,519,562,482,535,561,661,771,545,850,601,712,589,600,642,575,570,532,796,833,642,655,736,617,762,703,507,581,593,648,462,596,627,494,627,850,632,490,715,679,619,465,736,501,535,759,819,533,632,686,687,667,699,497,780,652,477,652,488,572,755,779,693,530,738,690,611,643,632,727,508,550,754,759,794,549,671,756,632,579,748,488,710,619,773,657,579,542,709,617,568,769,608,503,608,731,850,591,579,570,709,611,775,699,618,704,835,714,581,592,551,689,604,514,698,581,573,449,850,612,690,599,498,497,802,644,714,690,522,502,730,590,458,553,479,693,707,636,807,513,582,694,777,598,762,588,663,777,592,631,725,850,540,674,553,630,466,613,558,775,698,608,670,591,633,678,590,705,608,682,596,395,578,547,609,774,712,585,666,708,513,445,690,850,537,705,670,652,696,747,511,743,532,642,554,604,602,757,491,850,521,726,596,850,637,690,689,633,555,563,494,534,696,535,600,807,714,590,614,766,557,788,648,726,773,583,565,705,685,741,658,575,844,559,725,450,738,642,618,590,735,550,729,743,555,667,790,727,744,629,619,634,608,507,536,730,583,644,790,807,581,627,850,754,551,637,699,542,640,553,741,598,660,618,647,491,652,650,413,416,629,678,527,743,683,536,663,646,707,602,635,597,503,524,700,692,562,679,603,720,797,594,529,606,621,513,753,605,574,726,611,593,466,741,684,550,593,601,676,556,719,850,649,509,684,806,729,683,689,672,602,739,618,674,762,790,754,729,606,616,772,652,743,793,743,746,627,713,678,540,615,415,628,700,623,623,679,632,790,514,491,753,693,679,529,619,680,693,834,636,538,566,597,711,606,615,589,606,582,710,467,749,564,730,678,540,767,615,583,850,651,798,695,497,739,549,850,648,679,606,850,619,719,640,710,580,550,841,760,687,753,661,699,617,595,669,613,782,582,679,611,455,621,596,585,742,850,738,619,628,487,513,563,803,607,628,521,669,686,700,663,671,651,728,574,464,604,836,511,518,756,489,622,652,625,521,546,697,571,748,591,814,709,433,781,656,683,620,637,525,793,638,520,641,840,504,686,533,577,445,720,643,652,663,525,662,724,581,685,595,588,647,785,794,823,687,850,496,527,576,525,727,671,625,643,707,539,498,696,758,685,655,747,601,477,558,586,850,505,591,761,554,774,771,792,673,765,748,422,568,502,524,689,661,606,678,636,647,732,646,559,581,565,657,847,558,596,579,741,613,694,729,480,666,575,850,740,588,681,611,589,717,556,850,685,713,437,605,758,600,827,608,608,554,683,660,628,668,776,820,665,850,703,506,588,622,606,517,758,677,827,729,654,654,619,642,472,470,633,602,640,454,562,636,621,795,550,630,573,561,662,637,651,646,567,638,725,709,787,653,661,681,436,663,662,607,754,850,578,666,599,586,825,808,515,663,444,650,609,824,662,699,752,603,628,745,804,454,631,503,548,668,619,842,707,715,573,509,670,613,678,555,777,552,640,541,756,684,618,604,624,661,627,812,473,717,693,705,661,573,639,718,570,461,638,608,599,762,662,747,539,625,656,469,621,754,679,535,487,850,585,603,728,621,833,502,825,668,487,600,606,623,575,577,651,693,800,760,711,637,662,568,692,614,478,562,709,684,546,779,576,481,445,606,559,608,698,568,528,802,669,581,640,529,547,718,707,735,765,469,594,675,703,810,715,664,850,724,563,714,614,740,587,465,689,656,579,716,551,527,600,685,738,622,528,546,576,733,727,605,586,564,593,736,675,656,462,685,850,636,850,628,798,610,591,614,651,665,570,631,586,691,639,698,733,850,618,473,490,754,649,578,690,610,596,492,575,569,674,507,457,584,744,687,688,519,733,666,511,705,544,564,702,658,654,649,597,782,644,679,678,806,668,659,660,601,781,628,751,531,647,708,550,670,592,589,725,570,575,501,431,719,850,554,418,715,750,766,652,658,659,574,611,738,571,686,679,617,673,745,677,613,576,584,663,466,510,619,696,554,595,659,662,556,701,587,571,539,644,572,753,706,588,825,627,532,764,700,660,518,557,639,557,633,623,611,666,521,775,681,564,646,670,751,544,639,635,672,639,697,850,748,463,572,741,646,805,637,651,672,493,524,624,569,677,464,718,594,574,478,615,651,465,558,540,568,630,523,678,438,544,595,678,850,589,785,563,602,591,643,605,755,769,620,725,818,624,669,712,603,597,580,718,527,729,746,699,759,748,698,686,679,682,778,742,649,763,595,628,625,733,665,805,725,554,675,556,635,601,600,758,606,640,753,559,754,621,654,650,831,519,552,577,576,646,711,806,670,679,850,670,733,764,673,588,564,715,621,796,672,527,722,596,746,523,624,553,850,599,492,707,743,522,681,826,630,430,806,703,755,612,719,554,683,749,724,770,680,699,442,529,574,605,515,632,558,434,525,640,690,607,850,780,616,618,676,507,490,678,637,602,744,640,684,495,559,684,613,794,736,692,703,720,777,653,552,708,647,597,501,709,621,799,675,561,707,670,649,524,689,573,657,686,683,753,520,547,653,648,639,711,484,721,548,679,553,757,581,718,625,744,799,751,781,777,704,539,716,670,555,679,571,512,697,424,684,697,580,600,521,664,634,445,702,485,582,605,628,604,724,567,779,785,563,821,747,600,625,773,726,641,649,434,738,762,507,606,655,697,504,653,660,652,669,594,756,642,486,804,629,581,667,667,679,680,644,571,627,536,599,744,709,653,648,663,613,620,661,669,767,491,653,679,687,837,850,663,547,627,707,629,687,588,502,793,727,632,474,850,584,713,742,607,761,600,650,850,501,418,797,788,699,616,651,654,676,708,499,689,850,502,643,762,719,789,553,448,632,669,654,726,596,733,529,493,615,600,666,644,692,707,603,671,568,598,606,850,644,655,850,683,663,682,639,704,691,599,573,589,620,647,737,634,660,666,696,836,667,596,430,596,599,519,721,603,572,453,668,762,633,647,796,733,556,489,639,715,807,714,626,697,850,737,812,583,730,677,748,753,634,622,699,570,552,619,714,503,685,606,678,724,779,638,610,646,628,528,432,622,721,614,634,742,516,718,636,691,698,712,659,573,778,732,550,790,665,728,645,647,596,610,512,768,666,700,651,542,686,850,658,448,609,704,698,759,677,544,567,490,626,718,616,772,561,814,651,538,600,654,622,682,610,795,557,824,698,630,609,694,681,721,563,654,659,674,576,566,545,798,757,641,718,699,623,644,586,500,583,595,670,610,814,660,580,850,676,578,579,711,692,760,630,808,611,697,655,601,755,553,723,507,777,566,732,697,555,584,705,688,626,636,719,706,731,738,426,622,701,512,635,685,609,598,708,574,629,422,656,697,718,586,481,749,561,676,615,582,601,708,708,797,682,694,490,828,594,579,723,619,794,674,418,502,678,599,736,430,537,683,828,691,608,691,718,680,838,695,681,762,751,678,634,749,590,610,502,578,547,579,661,794,719,728,598,822,670,850,723,705,677,736,661,501,516,517,766,520,541,790,797,811,722,675,660,566,768,610,715,750,431,704,535,614,748,492,573,706,680,458,612,809,590,602,540,494,797,526,631,576,405,555,750,665,640,457,695,645,647,808,641,700,660,615,705,718,754,713,587,569,568,634,770,676,723,614,601,592,605,752,677,850,608,786,777,667,848,486,598,506,612,545,793,682,517,684,692,740,666,693,757,684,691,842,482,735,681,616,850,635,638,820,694,713,543,649,777,561,724,665,441,579,777,739,660,554,850,842,785,550,750,490,605,563,675,621,850,711,549,764,627,850,614,685,683,643,561,601,766,699,850,792,636,850,628,736,711,583,757,749,705,585,437,741,738,586,627,551,606,674,584,590,585,508,458,692,502,518,660,698,678,773,619,684,635,680,608,603,579,756,611,532,684,647,583,774,677,542,613,666,777,581,705,673,594,648,605,734,572,595,749,573,624,703,665,648,850,569,566,537,706,734,586,612,648,557,643,433,643,488,758,743,730,746,666,580,850,563,766,659,607,644,746,588,691,666,640,611,651,529,676,639,782,641,697,623,494,731,657,744,774,850,551,638,792,666,716,594,600,565,678,648,642,706,668,635,603,635,642,785,628,499,567,449,701,613,683,581,620,561,558,642,805,687,695,562,613,589,593,714,588,679,730,833,586,567,637,711,828,500,807,850,782,629,582,468,670,805,720,781,592,542,532,520,759,473,639,705,530,516,850,746,622,743,732,850,850,686,556,673,809,634,630,564,625,677,583,592,637,850,633,751,592,716,641,849,647,608,555,497,599,545,774,464,696,667,812,516,645,664,427,685,585,519,708,717,465,829,826,747,707,590,603,615,634,716,647,591,574,467,701,747,650,731,638,569,459,632,683,850,512,616,664,694,655,607,684,763,671,592,666,667,850,622,577,555,547,613,672,624,698,606,720,835,771,811,734,548,652,707,605,623,686,525,657,730,816,484,728,730,477,663,549,714,430,504,530,619,617,791,609,780,777,817,850,732,693,576,643,757,569,772,576,608,794,593,597,541,692,697,768,802,584,614,850,671,626,770,633,663,581,561,479,769,659,590,560,437,661,677,560,578,421,492,545,640,624,577,704,523,793,564,711,791,629,729,651,695,847,704,613,692,720,577,710,716,410,584,792,605,486,615,676,571,850,717,642,780,492,760,500,654,606,367,799,434,719,641,461,790,588,621,768,681,606,542,713,597,635,599,496,759,757,564,561,702,678,707,610,744,598,562,621,659,722,606,603,506,715,690,644,589,592,632,577,588,617,668,810,767,718,589,778,724,477,580,566,711,706,703,679,603,598,836,687,704,605,516,572,557,443,604,483,702,670,804,850,554,588,758,787,582,633,766,564,602,649,679,639,790,565,478,825,528,577,663,505,633,586,850,629,744,750,637,575,671,571,590,619,640,670,737,555,742,618,560,654,787,611,559,481,753,675,748,610,580,624,709,605,706,567,747,664,711,609,632,725,850,682,797,668,783,766,704,722,692,584,644,598,733,615,850,521,675,746,770,618,556,749,702,555,587,639,643,600,651,666,520,650,564,586,617,712,654,605,491,707,638,683,815,645,645,683,705,647,786,534,602,695,553,516,655,849,520,568,695,807,642,703,556,585,587,524,556,504,731,651,675,657,686,690,567,557,446,850,637,499,622,684,612,813,850,795,628,565,601,802,614,434,522,550,599,493,755,605,708,699,763,743,660,619,739,769,692,560,607,630,767,543,776,535,549,844,586,583,701,726,829,749,743,619,699,749,600,760,528,630,683,677,669,693,612,719,702,755,514,753,548,850,612,628,479,724,512,638,834,781,707,670,663,624,598,619,792,683,691,765,508,637,667,575,744,567,502,609,715,541,850,595,650,625,817,526,850,598,613,709,678,720,662,525,662,770,721,633,701,556,639,632,456,729,632,433,802,670,738,706,592,522,746,651,494,753,671,696,577,587,712,498,660,678,530,559,624,592,767,653,678,586,550,643,612,674,657,724,500,688,599,631,634,545,644,690,711,712,627,694,534,603,808,723,585,706,671,597,646,801,731,620,484,647,688,680,689,513,553,689,517,731,687,507,468,682,603,522,629,729,574,677,627,788,697,578,519,632,679,699,615,622,755,767,752,633,717,585,751,754,495,650,529,585,668,591,731,754,650,588,712,691,771,678,719,610,722,758,709,634,678,633,710,640,656,551,786,561,807,602,727,678,730,596,686,684,797,658,653,641,656,750,768,568,706,430,745,747,657,639,704,651,706,632,751,767,741,651,601,520,626,811,730,604,499,754,716,636,470,444,809,850,637,512,774,641,586,611,660,532,557,730,535,773,510,539,690,821,687,557,532,540,705,542,706,765,529,714,582,609,518,791,747,565,735,697,813,772,606,667,637,542,762,698,850,621,671,775,504,751,691,841,709,673,541,661,784,742,850,443,778,529,678,516,469,786,703,579,565,443,589,691,711,775,621,350,668,633,697,734,434,646,764,727,724,749,706,728,636,634,627,518,687,622,693,450,664,663,660,579,655,683,655,575,574,795,776,707,705,678,663,748,677,634,350,727,773,675,649,552,761,622,615,681,768,617,452,807,567,603,617,701,820,438,600,782,638,850,741,689,743,493,416,725,497,537,706,651,720,797,543,454,691,510,792,721,765,850,681,586,753,593,674,610,652,850,740,637,685,558,677,592,652,662,543,675,643,611,412,638,824,683,562,599,753,594,657,716,850,664,558,606,776,557,614,620,695,729,571,457,559,664,500,782,708,681,674,697,774,624,747,715,808,678,813,687,832,668,526,457,649,669,668,466,685,610,582,702,556,812,645,809,560,744,731,471,686,668,575,435,743,580,599,534,680,631,485,699,712,603,850,584,604,586,467,520,683,557,613,786,593,670,657,718,623,496,429,606,499,642,641,673,570,472,550,625,516,682,620,626,623,569,724,678,713,631,846,660,567,731,693,772,657,774,667,516,551,542,623,701,583,731,461,702,565,711,664,518,728,585,573,568,602,603,687,741,469,477,737,835,717,562,758,408,650,582,706,567,720,631,623,514,650,673,504,723,645,664,760,766,634,640,784,547,608,547,612,573,615,710,674,702,616,688,605,676,708,745,661,726,475,751,645,775,540,591,596,573,577,830,663,421,718,655,712,663,640,577,546,802,590,594,577,541,781,806,723,535,768,653,803,545,581,513,731,727,560,766,630,652,729,629,667,671,768,732,546,630,765,704,470,688,685,567,720,609,521,556,662,704,750,619,468,435,529,702,608,576,666,730,647,516,711,736,768,427,686,690,647,714,736,608,809,745,781,527,595,850,569,728,473,738,659,597,445,671,656,658,698,655,772,681,688,633,735,521,541,612,562,703,710,731,703,618,689,718,608,749,753,630,693,838,756,775,635,705,481,727,595,535,578,597,449,850,494,676,818,712,672,636,698,597,717,614,708,507,581,579,504,737,540,609,778,621,665,608,680,663,627,607,681,766,694,411,742,673,529,519,573,453,798,693,637,672,597,543,695,584,652,601,628,607,646,572,801,597,613,529,794,557,499,544,739,458,528,773,646,564,624,682,726,560,382,457,673,584,629,584,724,644,676,499,598,655,559,543,679,594,586,776,699,847,582,648,618,543,642,462,640,740,773,583,589,509,612,505,546,681,762,786,629,787,713,541,451,644,686,847,765,678,539,800,799,629,734,542,414,675,683,748,596,642,499,649,739,616,560,427,435,633,443,727,674,661,619,562,633,551,720,688,635,561,850,636,461,771,713,658,586,737,742,824,701,623,744,698,616,662,594,685,742,678,651,585,579,722,613,694,550,741,668,529,636,563,767,644,780,635,641,593,540,663,630,605,710,755,641,737,695,466,558,665,737,654,619,845,727,582,716,660,664,801,615,718,667,670,590,739,373,418,837,645,552,580,684,634,607,802,736,629,737,718,561,641,677,641,658,659,567,584,709,690,627,765,645,716,771,687,717,524,679,538,752,846,532,670,597,627,700,766,488,694,639,705,810,638,595,575,850,419,640,570,640,689,725,751,544,768,648,577,639,686,657,613,701,578,689,687,499,693,737,651,753,523,458,643,638,685,684,670,701,705,593,651,741,596,581,689,544,718,583,663,666,524,599,667,727,689,639,678,523,650,744,697,800,664,740,835,559,676,613,713,751,523,775,608,673,616,650,655,782,781,593,505,707,692,813,850,753,850,671,791,624,649,732,664,789,680,701,684,586,522,739,835,790,671,560,651,682,808,644,688,617,738,663,515,845,639,557,543,585,610,727,540,418,660,850,618,642,850,739,508,667,741,592,651,773,850,550,783,777,659,727,603,644,647,648,721,524,626,569,578,769,694,664,646,779,782,769,655,623,705,686,678,738,703,554,582,644,724,593,710,631,739,644,652,554,483,669,841,662,821,783,850,559,602,563,695,546,719,539,632,772,708,668,738,785,597,531,509,508,749,621,659,634,675,770,736,524,674,700,741,455,608,776,635,746,692,683,591,581,684,561,718,590,573,350,504,813,641,662,497,716,526,760,669,655,547,648,790,744,761,750,680,704,521,452,695,850,625,608,715,834,469,480,527,834,583,696,606,713,821,550,675,748,606,726,547,758,596,720,674,756,649,613,643,600,735,585,724,635,472,590,651,686,606,781,593,793,791,850,698,846,765,574,617,581,710,550,533,779,763,563,678,644,682,625,733,512,642,737,575,543,521,637,714,726,680,812,757,710,516,803,560,679,526,485,625,773,530,616,651,586,607,724,733,667,700,659,710,760,677,798,758,715,752,586,818,490,610,627,533,708,681,690,656,673,806,648,501,556,627,652,807,708,619,601,445,800,554,714,656,520,480,660,532,679,780,747,705,732,515,816,641,509,601,527,455,803,553,724,610,559,825,819,772,685,506,642,627,600,653,762,569,756,673,637,644,658,649,603,820,712,645,705,590,631,604,643,690,558,637,648,652,808,551,711,467,789,602,576,584,593,705,595,699,516,838,587,750,581,484,576,567,638,646,658,590,546,603,619,678,459,671,501,719,681,706,763,716,507,678,775,544,756,757,742,591,667,787,718,521,607,633,588,724,720,521,620,505,728,486,584,687,771,678,751,670,675,684,637,760,662,680,604,764,521,684,795,678,589,660,646,706,730,606,690,645,579,481,492,739,624,682,701,718,496,543,616,635,652,688,678,757,667,725,632,694,803,814,611,755,425,850,677,797,692,735,609,700,526,693,748,657,739,784,744,645,669,615,724,850,625,635,724,550,645,714,520,633,537,764,795,573,702,740,479,627,479,623,512,609,518,833,758,611,583,610,637,683,774,677,741,498,655,613,602,659,673,606,775,841,714,597,726,644,800,771,516,709,772,792],\"y0\":\" \",\"yaxis\":\"y\",\"type\":\"box\"}],                        {\"template\":{\"data\":{\"histogram2dcontour\":[{\"type\":\"histogram2dcontour\",\"colorbar\":{\"outlinewidth\":0,\"ticks\":\"\"},\"colorscale\":[[0.0,\"#0d0887\"],[0.1111111111111111,\"#46039f\"],[0.2222222222222222,\"#7201a8\"],[0.3333333333333333,\"#9c179e\"],[0.4444444444444444,\"#bd3786\"],[0.5555555555555556,\"#d8576b\"],[0.6666666666666666,\"#ed7953\"],[0.7777777777777778,\"#fb9f3a\"],[0.8888888888888888,\"#fdca26\"],[1.0,\"#f0f921\"]]}],\"choropleth\":[{\"type\":\"choropleth\",\"colorbar\":{\"outlinewidth\":0,\"ticks\":\"\"}}],\"histogram2d\":[{\"type\":\"histogram2d\",\"colorbar\":{\"outlinewidth\":0,\"ticks\":\"\"},\"colorscale\":[[0.0,\"#0d0887\"],[0.1111111111111111,\"#46039f\"],[0.2222222222222222,\"#7201a8\"],[0.3333333333333333,\"#9c179e\"],[0.4444444444444444,\"#bd3786\"],[0.5555555555555556,\"#d8576b\"],[0.6666666666666666,\"#ed7953\"],[0.7777777777777778,\"#fb9f3a\"],[0.8888888888888888,\"#fdca26\"],[1.0,\"#f0f921\"]]}],\"heatmap\":[{\"type\":\"heatmap\",\"colorbar\":{\"outlinewidth\":0,\"ticks\":\"\"},\"colorscale\":[[0.0,\"#0d0887\"],[0.1111111111111111,\"#46039f\"],[0.2222222222222222,\"#7201a8\"],[0.3333333333333333,\"#9c179e\"],[0.4444444444444444,\"#bd3786\"],[0.5555555555555556,\"#d8576b\"],[0.6666666666666666,\"#ed7953\"],[0.7777777777777778,\"#fb9f3a\"],[0.8888888888888888,\"#fdca26\"],[1.0,\"#f0f921\"]]}],\"heatmapgl\":[{\"type\":\"heatmapgl\",\"colorbar\":{\"outlinewidth\":0,\"ticks\":\"\"},\"colorscale\":[[0.0,\"#0d0887\"],[0.1111111111111111,\"#46039f\"],[0.2222222222222222,\"#7201a8\"],[0.3333333333333333,\"#9c179e\"],[0.4444444444444444,\"#bd3786\"],[0.5555555555555556,\"#d8576b\"],[0.6666666666666666,\"#ed7953\"],[0.7777777777777778,\"#fb9f3a\"],[0.8888888888888888,\"#fdca26\"],[1.0,\"#f0f921\"]]}],\"contourcarpet\":[{\"type\":\"contourcarpet\",\"colorbar\":{\"outlinewidth\":0,\"ticks\":\"\"}}],\"contour\":[{\"type\":\"contour\",\"colorbar\":{\"outlinewidth\":0,\"ticks\":\"\"},\"colorscale\":[[0.0,\"#0d0887\"],[0.1111111111111111,\"#46039f\"],[0.2222222222222222,\"#7201a8\"],[0.3333333333333333,\"#9c179e\"],[0.4444444444444444,\"#bd3786\"],[0.5555555555555556,\"#d8576b\"],[0.6666666666666666,\"#ed7953\"],[0.7777777777777778,\"#fb9f3a\"],[0.8888888888888888,\"#fdca26\"],[1.0,\"#f0f921\"]]}],\"surface\":[{\"type\":\"surface\",\"colorbar\":{\"outlinewidth\":0,\"ticks\":\"\"},\"colorscale\":[[0.0,\"#0d0887\"],[0.1111111111111111,\"#46039f\"],[0.2222222222222222,\"#7201a8\"],[0.3333333333333333,\"#9c179e\"],[0.4444444444444444,\"#bd3786\"],[0.5555555555555556,\"#d8576b\"],[0.6666666666666666,\"#ed7953\"],[0.7777777777777778,\"#fb9f3a\"],[0.8888888888888888,\"#fdca26\"],[1.0,\"#f0f921\"]]}],\"mesh3d\":[{\"type\":\"mesh3d\",\"colorbar\":{\"outlinewidth\":0,\"ticks\":\"\"}}],\"scatter\":[{\"fillpattern\":{\"fillmode\":\"overlay\",\"size\":10,\"solidity\":0.2},\"type\":\"scatter\"}],\"parcoords\":[{\"type\":\"parcoords\",\"line\":{\"colorbar\":{\"outlinewidth\":0,\"ticks\":\"\"}}}],\"scatterpolargl\":[{\"type\":\"scatterpolargl\",\"marker\":{\"colorbar\":{\"outlinewidth\":0,\"ticks\":\"\"}}}],\"bar\":[{\"error_x\":{\"color\":\"#2a3f5f\"},\"error_y\":{\"color\":\"#2a3f5f\"},\"marker\":{\"line\":{\"color\":\"#E5ECF6\",\"width\":0.5},\"pattern\":{\"fillmode\":\"overlay\",\"size\":10,\"solidity\":0.2}},\"type\":\"bar\"}],\"scattergeo\":[{\"type\":\"scattergeo\",\"marker\":{\"colorbar\":{\"outlinewidth\":0,\"ticks\":\"\"}}}],\"scatterpolar\":[{\"type\":\"scatterpolar\",\"marker\":{\"colorbar\":{\"outlinewidth\":0,\"ticks\":\"\"}}}],\"histogram\":[{\"marker\":{\"pattern\":{\"fillmode\":\"overlay\",\"size\":10,\"solidity\":0.2}},\"type\":\"histogram\"}],\"scattergl\":[{\"type\":\"scattergl\",\"marker\":{\"colorbar\":{\"outlinewidth\":0,\"ticks\":\"\"}}}],\"scatter3d\":[{\"type\":\"scatter3d\",\"line\":{\"colorbar\":{\"outlinewidth\":0,\"ticks\":\"\"}},\"marker\":{\"colorbar\":{\"outlinewidth\":0,\"ticks\":\"\"}}}],\"scattermapbox\":[{\"type\":\"scattermapbox\",\"marker\":{\"colorbar\":{\"outlinewidth\":0,\"ticks\":\"\"}}}],\"scatterternary\":[{\"type\":\"scatterternary\",\"marker\":{\"colorbar\":{\"outlinewidth\":0,\"ticks\":\"\"}}}],\"scattercarpet\":[{\"type\":\"scattercarpet\",\"marker\":{\"colorbar\":{\"outlinewidth\":0,\"ticks\":\"\"}}}],\"carpet\":[{\"aaxis\":{\"endlinecolor\":\"#2a3f5f\",\"gridcolor\":\"white\",\"linecolor\":\"white\",\"minorgridcolor\":\"white\",\"startlinecolor\":\"#2a3f5f\"},\"baxis\":{\"endlinecolor\":\"#2a3f5f\",\"gridcolor\":\"white\",\"linecolor\":\"white\",\"minorgridcolor\":\"white\",\"startlinecolor\":\"#2a3f5f\"},\"type\":\"carpet\"}],\"table\":[{\"cells\":{\"fill\":{\"color\":\"#EBF0F8\"},\"line\":{\"color\":\"white\"}},\"header\":{\"fill\":{\"color\":\"#C8D4E3\"},\"line\":{\"color\":\"white\"}},\"type\":\"table\"}],\"barpolar\":[{\"marker\":{\"line\":{\"color\":\"#E5ECF6\",\"width\":0.5},\"pattern\":{\"fillmode\":\"overlay\",\"size\":10,\"solidity\":0.2}},\"type\":\"barpolar\"}],\"pie\":[{\"automargin\":true,\"type\":\"pie\"}]},\"layout\":{\"autotypenumbers\":\"strict\",\"colorway\":[\"#636efa\",\"#EF553B\",\"#00cc96\",\"#ab63fa\",\"#FFA15A\",\"#19d3f3\",\"#FF6692\",\"#B6E880\",\"#FF97FF\",\"#FECB52\"],\"font\":{\"color\":\"#2a3f5f\"},\"hovermode\":\"closest\",\"hoverlabel\":{\"align\":\"left\"},\"paper_bgcolor\":\"white\",\"plot_bgcolor\":\"#E5ECF6\",\"polar\":{\"bgcolor\":\"#E5ECF6\",\"angularaxis\":{\"gridcolor\":\"white\",\"linecolor\":\"white\",\"ticks\":\"\"},\"radialaxis\":{\"gridcolor\":\"white\",\"linecolor\":\"white\",\"ticks\":\"\"}},\"ternary\":{\"bgcolor\":\"#E5ECF6\",\"aaxis\":{\"gridcolor\":\"white\",\"linecolor\":\"white\",\"ticks\":\"\"},\"baxis\":{\"gridcolor\":\"white\",\"linecolor\":\"white\",\"ticks\":\"\"},\"caxis\":{\"gridcolor\":\"white\",\"linecolor\":\"white\",\"ticks\":\"\"}},\"coloraxis\":{\"colorbar\":{\"outlinewidth\":0,\"ticks\":\"\"}},\"colorscale\":{\"sequential\":[[0.0,\"#0d0887\"],[0.1111111111111111,\"#46039f\"],[0.2222222222222222,\"#7201a8\"],[0.3333333333333333,\"#9c179e\"],[0.4444444444444444,\"#bd3786\"],[0.5555555555555556,\"#d8576b\"],[0.6666666666666666,\"#ed7953\"],[0.7777777777777778,\"#fb9f3a\"],[0.8888888888888888,\"#fdca26\"],[1.0,\"#f0f921\"]],\"sequentialminus\":[[0.0,\"#0d0887\"],[0.1111111111111111,\"#46039f\"],[0.2222222222222222,\"#7201a8\"],[0.3333333333333333,\"#9c179e\"],[0.4444444444444444,\"#bd3786\"],[0.5555555555555556,\"#d8576b\"],[0.6666666666666666,\"#ed7953\"],[0.7777777777777778,\"#fb9f3a\"],[0.8888888888888888,\"#fdca26\"],[1.0,\"#f0f921\"]],\"diverging\":[[0,\"#8e0152\"],[0.1,\"#c51b7d\"],[0.2,\"#de77ae\"],[0.3,\"#f1b6da\"],[0.4,\"#fde0ef\"],[0.5,\"#f7f7f7\"],[0.6,\"#e6f5d0\"],[0.7,\"#b8e186\"],[0.8,\"#7fbc41\"],[0.9,\"#4d9221\"],[1,\"#276419\"]]},\"xaxis\":{\"gridcolor\":\"white\",\"linecolor\":\"white\",\"ticks\":\"\",\"title\":{\"standoff\":15},\"zerolinecolor\":\"white\",\"automargin\":true,\"zerolinewidth\":2},\"yaxis\":{\"gridcolor\":\"white\",\"linecolor\":\"white\",\"ticks\":\"\",\"title\":{\"standoff\":15},\"zerolinecolor\":\"white\",\"automargin\":true,\"zerolinewidth\":2},\"scene\":{\"xaxis\":{\"backgroundcolor\":\"#E5ECF6\",\"gridcolor\":\"white\",\"linecolor\":\"white\",\"showbackground\":true,\"ticks\":\"\",\"zerolinecolor\":\"white\",\"gridwidth\":2},\"yaxis\":{\"backgroundcolor\":\"#E5ECF6\",\"gridcolor\":\"white\",\"linecolor\":\"white\",\"showbackground\":true,\"ticks\":\"\",\"zerolinecolor\":\"white\",\"gridwidth\":2},\"zaxis\":{\"backgroundcolor\":\"#E5ECF6\",\"gridcolor\":\"white\",\"linecolor\":\"white\",\"showbackground\":true,\"ticks\":\"\",\"zerolinecolor\":\"white\",\"gridwidth\":2}},\"shapedefaults\":{\"line\":{\"color\":\"#2a3f5f\"}},\"annotationdefaults\":{\"arrowcolor\":\"#2a3f5f\",\"arrowhead\":0,\"arrowwidth\":1},\"geo\":{\"bgcolor\":\"white\",\"landcolor\":\"#E5ECF6\",\"subunitcolor\":\"white\",\"showland\":true,\"showlakes\":true,\"lakecolor\":\"white\"},\"title\":{\"x\":0.05},\"mapbox\":{\"style\":\"light\"}}},\"xaxis\":{\"anchor\":\"y\",\"domain\":[0.0,1.0]},\"yaxis\":{\"anchor\":\"x\",\"domain\":[0.0,1.0],\"title\":{\"text\":\"CreditScore\"}},\"legend\":{\"tracegroupgap\":0},\"margin\":{\"t\":60},\"boxmode\":\"group\"},                        {\"responsive\": true}                    ).then(function(){\n",
       "                            \n",
       "var gd = document.getElementById('1fa51da4-87d0-47a0-8181-ea7ea5982089');\n",
       "var x = new MutationObserver(function (mutations, observer) {{\n",
       "        var display = window.getComputedStyle(gd).display;\n",
       "        if (!display || display === 'none') {{\n",
       "            console.log([gd, 'removed!']);\n",
       "            Plotly.purge(gd);\n",
       "            observer.disconnect();\n",
       "        }}\n",
       "}});\n",
       "\n",
       "// Listen for the removal of the full notebook cells\n",
       "var notebookContainer = gd.closest('#notebook-container');\n",
       "if (notebookContainer) {{\n",
       "    x.observe(notebookContainer, {childList: true});\n",
       "}}\n",
       "\n",
       "// Listen for the clearing of the current output cell\n",
       "var outputEl = gd.closest('.output');\n",
       "if (outputEl) {{\n",
       "    x.observe(outputEl, {childList: true});\n",
       "}}\n",
       "\n",
       "                        })                };                });            </script>        </div>"
      ]
     },
     "metadata": {},
     "output_type": "display_data"
    }
   ],
   "source": [
    "fig = px.box(df[\"CreditScore\"], y=\"CreditScore\")\n",
    "fig.show()"
   ]
  },
  {
   "cell_type": "markdown",
   "id": "96c5ac3e",
   "metadata": {
    "papermill": {
     "duration": 0.009138,
     "end_time": "2023-02-03T20:10:50.496137",
     "exception": false,
     "start_time": "2023-02-03T20:10:50.486999",
     "status": "completed"
    },
    "tags": []
   },
   "source": [
    "Some outliers are observed. The deletion would be better for dataset.\n",
    "According to box plot,\n",
    "Q3=718\n",
    "Q1=584\n",
    "Median= 652\n",
    "Max =850\n",
    "Min=383"
   ]
  }
 ],
 "metadata": {
  "kernelspec": {
   "display_name": "Python 3",
   "language": "python",
   "name": "python3"
  },
  "language_info": {
   "codemirror_mode": {
    "name": "ipython",
    "version": 3
   },
   "file_extension": ".py",
   "mimetype": "text/x-python",
   "name": "python",
   "nbconvert_exporter": "python",
   "pygments_lexer": "ipython3",
   "version": "3.7.12"
  },
  "papermill": {
   "default_parameters": {},
   "duration": 25.929125,
   "end_time": "2023-02-03T20:10:51.328364",
   "environment_variables": {},
   "exception": null,
   "input_path": "__notebook__.ipynb",
   "output_path": "__notebook__.ipynb",
   "parameters": {},
   "start_time": "2023-02-03T20:10:25.399239",
   "version": "2.3.4"
  }
 },
 "nbformat": 4,
 "nbformat_minor": 5
}
